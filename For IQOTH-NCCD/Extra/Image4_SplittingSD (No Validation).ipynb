{
  "nbformat": 4,
  "nbformat_minor": 0,
  "metadata": {
    "colab": {
      "provenance": []
    },
    "kernelspec": {
      "name": "python3",
      "display_name": "Python 3"
    },
    "language_info": {
      "name": "python"
    }
  },
  "cells": [
    {
      "cell_type": "code",
      "execution_count": null,
      "metadata": {
        "id": "UyBh-OJEEekb"
      },
      "outputs": [],
      "source": []
    },
    {
      "cell_type": "markdown",
      "source": [
        "# Importing Libraries"
      ],
      "metadata": {
        "id": "Ym1Jop7MS4wF"
      }
    },
    {
      "cell_type": "code",
      "execution_count": 1,
      "metadata": {
        "id": "9dC_g7zSTPx6"
      },
      "outputs": [],
      "source": [
        "import tensorflow as tf\n",
        "import numpy as np\n",
        "import cv2\n",
        "import os\n",
        "import numpy as np\n",
        "import pandas as pd\n",
        "import imageio\n",
        "import random\n",
        "import matplotlib.pyplot as plt\n",
        "import keras\n",
        "import tensorflow.keras as K\n",
        "import tensorflow.keras.backend as Kback\n",
        "\n",
        "from keras import layers\n",
        "from keras.layers import Input\n",
        "from keras.layers import Conv2D\n",
        "from keras.layers import MaxPooling2D\n",
        "from keras.layers import AveragePooling2D\n",
        "from keras.layers import Dropout\n",
        "from keras.layers import Conv2DTranspose\n",
        "from keras.layers import concatenate\n",
        "from keras.layers import BatchNormalization\n",
        "from keras.preprocessing.image import ImageDataGenerator\n",
        "from keras.models import Sequential, Model\n",
        "from keras.layers import Dense, Dropout, Activation, Flatten\n",
        "from keras.callbacks import EarlyStopping\n",
        "from keras.applications.resnet import ResNet50\n",
        "from keras.applications import vgg16\n",
        "from keras.applications import inception_v3\n",
        "from keras.src.applications.vgg16 import VGG16\n",
        "from keras.applications.vgg19 import VGG19\n",
        "from keras.applications.mobilenet_v2 import MobileNetV2\n",
        "from keras.applications import DenseNet121, NASNetMobile, EfficientNetB0, Xception\n",
        "from keras.layers import GlobalAveragePooling2D\n",
        "from keras.applications.densenet import DenseNet121\n",
        "\n",
        "from sklearn.metrics import classification_report\n",
        "from sklearn.metrics import confusion_matrix, ConfusionMatrixDisplay\n",
        "from sklearn.model_selection import train_test_split\n",
        "from sklearn.utils import shuffle\n",
        "from sklearn.utils.class_weight import compute_class_weight\n",
        "\n",
        "\n",
        "from collections import Counter\n",
        "from sklearn.metrics import RocCurveDisplay\n",
        "from sklearn.metrics import roc_auc_score"
      ]
    },
    {
      "cell_type": "code",
      "source": [
        "from google.colab import drive\n",
        "drive.mount('/content/drive')"
      ],
      "metadata": {
        "colab": {
          "base_uri": "https://localhost:8080/"
        },
        "outputId": "653a605a-1e69-49e5-806d-8fb54536a258",
        "id": "Ngl4Kvx-TPx7"
      },
      "execution_count": 2,
      "outputs": [
        {
          "output_type": "stream",
          "name": "stdout",
          "text": [
            "Mounted at /content/drive\n"
          ]
        }
      ]
    },
    {
      "cell_type": "markdown",
      "source": [
        "# Data Loadng\n"
      ],
      "metadata": {
        "id": "eCgoW8IR_sNe"
      }
    },
    {
      "cell_type": "code",
      "source": [
        "import os\n",
        "import cv2\n",
        "import numpy as np\n",
        "from sklearn.model_selection import train_test_split\n",
        "\n",
        "# Define the base path to your dataset\n",
        "base_path = '/content/drive/My Drive/LUNGCANCER/IQ-OTH/The IQ-OTHNCCD lung cancer dataset'\n",
        "\n",
        "# List of class names (A, B, C)\n",
        "class_names =  [\"Normal cases\", \"Malignant cases\", \"Bengin cases\"]\n",
        "\n",
        "# Initialize empty lists for images and labels\n",
        "all_images = []\n",
        "all_labels = []\n",
        "\n",
        "# Load images and assign labels\n",
        "for label, class_name in enumerate(class_names):\n",
        "    class_path = os.path.join(base_path, class_name)\n",
        "    image_files = os.listdir(class_path)\n",
        "\n",
        "    for image_file in image_files:\n",
        "        image_path = os.path.join(class_path, image_file)\n",
        "        img = cv2.imread(image_path, cv2.IMREAD_COLOR)  # Read as GBR\n",
        "        img = cv2.cvtColor(img,cv2.COLOR_BGR2RGB)\n",
        "\n",
        "\n",
        "        # img = cv2.imread(image_path, cv2.IMREAD_GRAYSCALE)  # Read as grayscale\n",
        "        img = cv2.resize(img, (224, 224))  # Resize to desired dimensions\n",
        "        img = img / 255.0  # Normalize pixel values (assuming 8-bit images)\n",
        "        all_images.append(img)\n",
        "        all_labels.append(label)\n"
      ],
      "metadata": {
        "id": "b15uN3fM-VA9"
      },
      "execution_count": 3,
      "outputs": []
    },
    {
      "cell_type": "markdown",
      "source": [],
      "metadata": {
        "id": "HZH67v-X_riR"
      }
    },
    {
      "cell_type": "code",
      "source": [
        "data=all_images\n",
        "labels=all_labels"
      ],
      "metadata": {
        "id": "6_WsGBtI-V3K"
      },
      "execution_count": 4,
      "outputs": []
    },
    {
      "cell_type": "code",
      "source": [
        "data, labels = shuffle(data, labels, random_state=42)\n",
        "\n",
        "\n",
        "print('Data length:', len(data))\n",
        "print('labels counts:', Counter(labels))\n",
        "\n",
        "X = np.array(data).reshape(-1, 224, 224, 3)\n",
        "y = np.array(labels)"
      ],
      "metadata": {
        "colab": {
          "base_uri": "https://localhost:8080/"
        },
        "id": "hANoWw4p-V6p",
        "outputId": "e9789da2-bfa9-425a-9d3d-bff845e15024"
      },
      "execution_count": 5,
      "outputs": [
        {
          "output_type": "stream",
          "name": "stdout",
          "text": [
            "Data length: 1097\n",
            "labels counts: Counter({1: 561, 0: 416, 2: 120})\n"
          ]
        }
      ]
    },
    {
      "cell_type": "markdown",
      "source": [
        "# Train Test Valid Split"
      ],
      "metadata": {
        "id": "sgAQaGFq_7If"
      }
    },
    {
      "cell_type": "code",
      "source": [
        "X_train, X_mix, y_train, y_mix = train_test_split(X, y, test_size=0.2, random_state=10)\n",
        "\n",
        "# X_test, X_valid, y_test, y_valid = train_test_split(X_mix, y_mix, test_size=0.2, random_state=10)\n",
        "# print('Train length:', len(X_train), X_train.shape)\n",
        "# print('Valid length:', len(X_valid), X_valid.shape)\n",
        "# print('Test length:', len(X_test), X_test)\n",
        "train_datagen = ImageDataGenerator()\n",
        "# val_datagen = ImageDataGenerator()\n",
        "test_datagen = ImageDataGenerator()\n",
        "# X,y valid are used for evaluate matrix\n",
        "\n",
        "\n",
        "\n",
        "\n",
        "\n",
        "\n",
        "\n",
        "\n",
        "\n",
        "\n",
        "X_test=X_mix\n",
        "y_test=y_mix\n",
        "\n",
        "\n",
        "\n",
        "\n",
        "\n",
        "\n",
        "\n",
        "\n",
        "\n",
        "\n",
        "\n",
        "\n",
        "\n",
        "\n",
        "print('Train length:', len(X_train), X_train.shape)\n",
        "# print('Valid length:', len(X_valid), X_valid.shape)\n",
        "print('Test length:', len(X_test), X_test.shape)\n",
        "\n",
        "\n",
        "\n",
        "# train_generator = train_datagen.flow(X_fold, y_fold, batch_size=8, shuffle=True)\n",
        "# validation_generator = val_datagen.flow(X_valid, y_valid, batch_size=8, shuffle=True)"
      ],
      "metadata": {
        "colab": {
          "base_uri": "https://localhost:8080/"
        },
        "id": "7w09MIwM-V8_",
        "outputId": "28708006-c27a-4211-ce9c-9f2aa61aa350"
      },
      "execution_count": 8,
      "outputs": [
        {
          "output_type": "stream",
          "name": "stdout",
          "text": [
            "Train length: 877 (877, 224, 224, 3)\n",
            "Test length: 220 (220, 224, 224, 3)\n"
          ]
        }
      ]
    },
    {
      "cell_type": "code",
      "source": [],
      "metadata": {
        "id": "ZLQ_eTx7nrhJ"
      },
      "execution_count": null,
      "outputs": []
    },
    {
      "cell_type": "code",
      "source": [],
      "metadata": {
        "id": "_LW3aCJX-W0z"
      },
      "execution_count": null,
      "outputs": []
    },
    {
      "cell_type": "markdown",
      "source": [
        "#T-B/L-R Split"
      ],
      "metadata": {
        "id": "Tue0aeXyABQr"
      }
    },
    {
      "cell_type": "code",
      "source": [
        "tl_train = []\n",
        "# tl_valid = []\n",
        "tl_test=[]\n",
        "for i in range(len(X_train)):\n",
        "    tl_train.append(cv2.resize(X_train[i][:112, :112],(128,128)))\n",
        "tl_train = np.array(tl_train)\n",
        "\n",
        "# for i in range(len(X_valid)):\n",
        "#   tl_valid.append(cv2.resize(X_valid[i][:112, :112],(128,128)))\n",
        "# tl_valid=np.array(tl_valid)\n",
        "\n",
        "for i in range(len(X_test)):\n",
        "  tl_test.append(cv2.resize(X_test[i][:112, :112],(128,128)))\n",
        "tl_test=np.array(tl_test)"
      ],
      "metadata": {
        "id": "bEeO-Ee3AGP4"
      },
      "execution_count": 10,
      "outputs": []
    },
    {
      "cell_type": "code",
      "source": [
        "X_train.shape"
      ],
      "metadata": {
        "colab": {
          "base_uri": "https://localhost:8080/"
        },
        "id": "dYev-zFwAKcB",
        "outputId": "90318e33-ccaf-4d3f-bb0b-3785ae4cea9f"
      },
      "execution_count": 11,
      "outputs": [
        {
          "output_type": "execute_result",
          "data": {
            "text/plain": [
              "(877, 224, 224, 3)"
            ]
          },
          "metadata": {},
          "execution_count": 11
        }
      ]
    },
    {
      "cell_type": "code",
      "source": [
        "tl_train.shape"
      ],
      "metadata": {
        "colab": {
          "base_uri": "https://localhost:8080/"
        },
        "id": "mb8_PFf5A72Y",
        "outputId": "66c4ff6a-abb1-4a73-8262-49fe7d1cb43b"
      },
      "execution_count": 12,
      "outputs": [
        {
          "output_type": "execute_result",
          "data": {
            "text/plain": [
              "(877, 128, 128, 3)"
            ]
          },
          "metadata": {},
          "execution_count": 12
        }
      ]
    },
    {
      "cell_type": "code",
      "source": [
        "# tl_valid.shape"
      ],
      "metadata": {
        "id": "OIseSKwGAKyn"
      },
      "execution_count": 14,
      "outputs": []
    },
    {
      "cell_type": "code",
      "source": [
        "tl_test.shape"
      ],
      "metadata": {
        "colab": {
          "base_uri": "https://localhost:8080/"
        },
        "id": "lAlALwiHAK1r",
        "outputId": "ff40f49a-93e4-46c1-c6b7-613cffe2f5d9"
      },
      "execution_count": 15,
      "outputs": [
        {
          "output_type": "execute_result",
          "data": {
            "text/plain": [
              "(220, 128, 128, 3)"
            ]
          },
          "metadata": {},
          "execution_count": 15
        }
      ]
    },
    {
      "cell_type": "code",
      "source": [
        "tr_train = []\n",
        "for i in range(len(X_train)):\n",
        "\n",
        "    tr_train.append(cv2.resize(X_train[i][:112, :112],(128,128)))\n",
        "tr_train = np.array(tr_train)\n",
        "\n",
        "\n",
        "\n",
        "# tr_valid=[]\n",
        "# for i in range(len(X_valid)):\n",
        "#   tr_valid.append(cv2.resize(X_valid[i][:112, :112],(128,128)))\n",
        "# tr_valid=np.array(tr_valid)\n",
        "\n",
        "tr_test=[]\n",
        "for i in range(len(X_test)):\n",
        "  tr_test.append(cv2.resize(X_test[i][:112, :112],(128,128)))\n",
        "tr_test=np.array(tr_test)"
      ],
      "metadata": {
        "id": "V5CQk5-4AK4v"
      },
      "execution_count": 16,
      "outputs": []
    },
    {
      "cell_type": "code",
      "source": [
        "bl_train = []\n",
        "for i in range(len(X_train)):\n",
        "    bl_train.append(cv2.resize(X_train[i][:112, :112],(128,128)))\n",
        "bl_train = np.array(bl_train)\n",
        "\n",
        "# bl_valid=[]\n",
        "# for i in range(len(X_valid)):\n",
        "#   bl_valid.append(cv2.resize(X_valid[i][:112, :112],(128,128)))\n",
        "# bl_valid=np.array(bl_valid)\n",
        "\n",
        "bl_test=[]\n",
        "for i in range(len(X_test)):\n",
        "  bl_test.append(cv2.resize(X_test[i][:112, :112],(128,128)))\n",
        "bl_test=np.array(bl_test)"
      ],
      "metadata": {
        "id": "oA9q65EqAK9R"
      },
      "execution_count": 17,
      "outputs": []
    },
    {
      "cell_type": "code",
      "source": [
        "br_train = []\n",
        "for i in range(len(X_train)):\n",
        "    br_train.append(cv2.resize(X_train[i][:112, :112],(128,128)))\n",
        "br_train = np.array(br_train)\n",
        "\n",
        "# br_valid = []\n",
        "# for i in range(len(X_valid)):\n",
        "#     br_valid.append(cv2.resize(X_valid[i][:112, :112],(128,128)))\n",
        "# br_valid = np.array(br_valid)\n",
        "\n",
        "br_test = []\n",
        "for i in range(len(X_test)):\n",
        "    br_test.append(cv2.resize(X_test[i][:112, :112],(128,128)))\n",
        "br_test = np.array(br_test)\n"
      ],
      "metadata": {
        "id": "PiSdYAX3CDjr"
      },
      "execution_count": 18,
      "outputs": []
    },
    {
      "cell_type": "code",
      "source": [],
      "metadata": {
        "id": "EsoT0d-hCHyk"
      },
      "execution_count": null,
      "outputs": []
    },
    {
      "cell_type": "markdown",
      "source": [
        "# Features T-B/L-R + Combining Features\n"
      ],
      "metadata": {
        "id": "BaNmZUzKCIB1"
      }
    },
    {
      "cell_type": "code",
      "source": [
        "base_model = MobileNetV2(\n",
        "    weights='imagenet',\n",
        "    include_top=False,\n",
        "    input_shape=(128,128,3)\n",
        ")"
      ],
      "metadata": {
        "id": "CXJ8Tv19CK6J",
        "colab": {
          "base_uri": "https://localhost:8080/"
        },
        "outputId": "bef1ad0f-0190-44b0-c1c4-c3de9358cb5d"
      },
      "execution_count": 9,
      "outputs": [
        {
          "output_type": "stream",
          "name": "stdout",
          "text": [
            "Downloading data from https://storage.googleapis.com/tensorflow/keras-applications/mobilenet_v2/mobilenet_v2_weights_tf_dim_ordering_tf_kernels_1.0_128_no_top.h5\n",
            "9406464/9406464 [==============================] - 0s 0us/step\n"
          ]
        }
      ]
    },
    {
      "cell_type": "markdown",
      "source": [
        "## Intermediate Model"
      ],
      "metadata": {
        "id": "OczI4vydEq0d"
      }
    },
    {
      "cell_type": "code",
      "source": [
        "NUM_CLASSES = 3\n",
        "input_layer = layers.Input(shape=(128, 128, 3))\n",
        "densenet_model = Sequential()\n",
        "densenet_model.add(input_layer)\n",
        "densenet_model.add(Conv2D(3, (3, 3), padding='same'))\n",
        "densenet_model.add(base_model)\n",
        "densenet_model.add(layers.Flatten(name='flatten'))\n",
        "# intermediate_features = densenet_model.layers[-1].output\n",
        "# attention_weights = layers.Dense(1, activation='softmax')(intermediate_features)\n",
        "# attention_weights = layers.Reshape((1, 1, -1))(attention_weights)\n",
        "# densenet_model.add(layers.Dense(10, activation='relu'))\n",
        "densenet_model.layers[0].trainable = False"
      ],
      "metadata": {
        "id": "ARF5NFevCOT7"
      },
      "execution_count": 19,
      "outputs": []
    },
    {
      "cell_type": "code",
      "source": [
        "densenet_model.summary()"
      ],
      "metadata": {
        "colab": {
          "base_uri": "https://localhost:8080/"
        },
        "id": "vnDy0gpTCb-8",
        "outputId": "e238b027-604d-46bd-e1ec-f245c2ee15f1"
      },
      "execution_count": 20,
      "outputs": [
        {
          "output_type": "stream",
          "name": "stdout",
          "text": [
            "Model: \"sequential\"\n",
            "_________________________________________________________________\n",
            " Layer (type)                Output Shape              Param #   \n",
            "=================================================================\n",
            " conv2d (Conv2D)             (None, 128, 128, 3)       84        \n",
            "                                                                 \n",
            " mobilenetv2_1.00_128 (Func  (None, 4, 4, 1280)        2257984   \n",
            " tional)                                                         \n",
            "                                                                 \n",
            " flatten (Flatten)           (None, 20480)             0         \n",
            "                                                                 \n",
            "=================================================================\n",
            "Total params: 2258068 (8.61 MB)\n",
            "Trainable params: 2223872 (8.48 MB)\n",
            "Non-trainable params: 34196 (133.58 KB)\n",
            "_________________________________________________________________\n"
          ]
        }
      ]
    },
    {
      "cell_type": "markdown",
      "source": [
        "### For Finding Individual Feature of T-B/L-R"
      ],
      "metadata": {
        "id": "A_IqnTSmF7DY"
      }
    },
    {
      "cell_type": "code",
      "source": [
        "# because rgb have 224X224x1 so we have to tweak model likewise"
      ],
      "metadata": {
        "id": "b_VXVgrgGO1K"
      },
      "execution_count": null,
      "outputs": []
    },
    {
      "cell_type": "code",
      "source": [
        "from keras.models import Model\n",
        "intermediate_model = Model(inputs=densenet_model.input, outputs=densenet_model.get_layer('flatten').output)\n",
        "intermediate_output_tl = intermediate_model.predict(tl_train)\n",
        "# intermediate_output_tr = intermediate_model.predict(tr_train)\n",
        "# intermediate_output_bl = intermediate_model.predict(bl)"
      ],
      "metadata": {
        "colab": {
          "base_uri": "https://localhost:8080/"
        },
        "id": "pwfG_YFPCjmA",
        "outputId": "da1f3a11-fab8-4620-fe8b-5da24f006eb9"
      },
      "execution_count": 21,
      "outputs": [
        {
          "output_type": "stream",
          "name": "stdout",
          "text": [
            "28/28 [==============================] - 14s 441ms/step\n"
          ]
        }
      ]
    },
    {
      "cell_type": "code",
      "source": [
        "intermediate_output_tl.shape"
      ],
      "metadata": {
        "colab": {
          "base_uri": "https://localhost:8080/"
        },
        "id": "MtcUDFcICn0z",
        "outputId": "bd03827a-2791-40ca-c8b5-03a3ee94ddb2"
      },
      "execution_count": null,
      "outputs": [
        {
          "output_type": "execute_result",
          "data": {
            "text/plain": [
              "(877, 20480)"
            ]
          },
          "metadata": {},
          "execution_count": 19
        }
      ]
    },
    {
      "cell_type": "code",
      "source": [],
      "metadata": {
        "id": "qH-PK-tqCn5P"
      },
      "execution_count": null,
      "outputs": []
    },
    {
      "cell_type": "code",
      "source": [
        "intermediate_output_tr = intermediate_model.predict(tr_train)"
      ],
      "metadata": {
        "colab": {
          "base_uri": "https://localhost:8080/"
        },
        "id": "IhPF4mmuCn9I",
        "outputId": "6f25e9a4-285f-4570-c5de-44d8d36955f8"
      },
      "execution_count": null,
      "outputs": [
        {
          "output_type": "stream",
          "name": "stdout",
          "text": [
            "28/28 [==============================] - 15s 519ms/step\n"
          ]
        }
      ]
    },
    {
      "cell_type": "code",
      "source": [
        "intermediate_output_tr.shape"
      ],
      "metadata": {
        "colab": {
          "base_uri": "https://localhost:8080/"
        },
        "id": "p2FSpdz1CoBf",
        "outputId": "4faf6fc0-6552-4090-8b65-eb7a7d0eb421"
      },
      "execution_count": null,
      "outputs": [
        {
          "output_type": "execute_result",
          "data": {
            "text/plain": [
              "(877, 20480)"
            ]
          },
          "metadata": {},
          "execution_count": 38
        }
      ]
    },
    {
      "cell_type": "code",
      "source": [
        "\n",
        "intermediate_output_bl = intermediate_model.predict(bl_train)"
      ],
      "metadata": {
        "colab": {
          "base_uri": "https://localhost:8080/"
        },
        "id": "yIEgQUTOCoFM",
        "outputId": "e1f3669e-a3c0-496a-c982-79d0920534ca"
      },
      "execution_count": null,
      "outputs": [
        {
          "output_type": "stream",
          "name": "stdout",
          "text": [
            "28/28 [==============================] - 13s 459ms/step\n"
          ]
        }
      ]
    },
    {
      "cell_type": "code",
      "source": [
        "intermediate_output_bl.shape"
      ],
      "metadata": {
        "colab": {
          "base_uri": "https://localhost:8080/"
        },
        "id": "mRcnfqifCoI1",
        "outputId": "5c630381-cedd-46c2-a324-dd2a05014cc4"
      },
      "execution_count": null,
      "outputs": [
        {
          "output_type": "execute_result",
          "data": {
            "text/plain": [
              "(877, 20480)"
            ]
          },
          "metadata": {},
          "execution_count": 40
        }
      ]
    },
    {
      "cell_type": "code",
      "source": [
        "print(intermediate_model.input_shape)"
      ],
      "metadata": {
        "colab": {
          "base_uri": "https://localhost:8080/"
        },
        "id": "AtHfSXb9CoMO",
        "outputId": "68dee7f7-8193-4d87-ba90-777fcd7f3c2b"
      },
      "execution_count": null,
      "outputs": [
        {
          "output_type": "stream",
          "name": "stdout",
          "text": [
            "(None, 128, 128, 3)\n"
          ]
        }
      ]
    },
    {
      "cell_type": "code",
      "source": [
        "intermediate_output_br = intermediate_model.predict(br_train)"
      ],
      "metadata": {
        "colab": {
          "base_uri": "https://localhost:8080/"
        },
        "id": "QztGHDkyKRBj",
        "outputId": "e7de890f-fa95-4ffe-c256-4ec2a1458714"
      },
      "execution_count": null,
      "outputs": [
        {
          "output_type": "stream",
          "name": "stdout",
          "text": [
            "28/28 [==============================] - 19s 691ms/step\n"
          ]
        }
      ]
    },
    {
      "cell_type": "code",
      "source": [
        "intermediate_output_br.shape"
      ],
      "metadata": {
        "colab": {
          "base_uri": "https://localhost:8080/"
        },
        "id": "CJEsTBlBKRFp",
        "outputId": "ef7a9191-be9e-4390-f6cc-46af41f66398"
      },
      "execution_count": null,
      "outputs": [
        {
          "output_type": "execute_result",
          "data": {
            "text/plain": [
              "(877, 20480)"
            ]
          },
          "metadata": {},
          "execution_count": 43
        }
      ]
    },
    {
      "cell_type": "code",
      "source": [
        "# intermediate_output_tl_valid = intermediate_model.predict(tl_valid)"
      ],
      "metadata": {
        "colab": {
          "base_uri": "https://localhost:8080/"
        },
        "id": "yscbFIAfDqxT",
        "outputId": "37eb9052-0198-43b0-87f0-6f08d40d1c08"
      },
      "execution_count": null,
      "outputs": [
        {
          "output_type": "stream",
          "name": "stdout",
          "text": [
            "2/2 [==============================] - 1s 132ms/step\n"
          ]
        }
      ]
    },
    {
      "cell_type": "code",
      "source": [
        "# intermediate_output_tr_valid = intermediate_model.predict(tr_valid)"
      ],
      "metadata": {
        "id": "W0rNZRL2Dq2f"
      },
      "execution_count": null,
      "outputs": []
    },
    {
      "cell_type": "code",
      "source": [
        "# intermediate_output_bl_valid = intermediate_model.predict(bl_valid)"
      ],
      "metadata": {
        "id": "cth5vtI9CoQK"
      },
      "execution_count": null,
      "outputs": []
    },
    {
      "cell_type": "code",
      "source": [
        "# intermediate_output_br_valid = intermediate_model.predict(br_valid)"
      ],
      "metadata": {
        "id": "t1UHIkYEKiQe"
      },
      "execution_count": null,
      "outputs": []
    },
    {
      "cell_type": "code",
      "source": [
        "intermediate_output_tl_test = intermediate_model.predict(tl_test)"
      ],
      "metadata": {
        "colab": {
          "base_uri": "https://localhost:8080/"
        },
        "id": "orIS4Qe3D3WN",
        "outputId": "244c22ef-d920-4b30-d275-739c4d92ab26"
      },
      "execution_count": null,
      "outputs": [
        {
          "output_type": "stream",
          "name": "stdout",
          "text": [
            "6/6 [==============================] - 3s 553ms/step\n"
          ]
        }
      ]
    },
    {
      "cell_type": "code",
      "source": [
        "intermediate_output_tr_test = intermediate_model.predict(bl_test)"
      ],
      "metadata": {
        "colab": {
          "base_uri": "https://localhost:8080/"
        },
        "id": "41lfWR-mD3ay",
        "outputId": "0c256505-0713-4cf3-f566-7ec96268bcf6"
      },
      "execution_count": null,
      "outputs": [
        {
          "output_type": "stream",
          "name": "stdout",
          "text": [
            "6/6 [==============================] - 2s 346ms/step\n"
          ]
        }
      ]
    },
    {
      "cell_type": "code",
      "source": [
        "intermediate_output_bl_test = intermediate_model.predict(bl_test)"
      ],
      "metadata": {
        "colab": {
          "base_uri": "https://localhost:8080/"
        },
        "id": "PZ6yVtjzDx3B",
        "outputId": "4ce9b1f1-42c7-4c81-c1e9-83002e79ccf1"
      },
      "execution_count": null,
      "outputs": [
        {
          "output_type": "stream",
          "name": "stdout",
          "text": [
            "6/6 [==============================] - 2s 380ms/step\n"
          ]
        }
      ]
    },
    {
      "cell_type": "code",
      "source": [
        "intermediate_output_br_test= intermediate_model.predict(br_test)"
      ],
      "metadata": {
        "colab": {
          "base_uri": "https://localhost:8080/"
        },
        "id": "YrmJ0EPjKrrv",
        "outputId": "5bb59071-c7a5-4157-a0b7-bf94ebd577f2"
      },
      "execution_count": null,
      "outputs": [
        {
          "output_type": "stream",
          "name": "stdout",
          "text": [
            "6/6 [==============================] - 2s 350ms/step\n"
          ]
        }
      ]
    },
    {
      "cell_type": "markdown",
      "source": [
        "## Intermediate Model for Actual Image"
      ],
      "metadata": {
        "id": "eQ-DJkVREy7A"
      }
    },
    {
      "cell_type": "code",
      "source": [
        "densenet_model_main= Sequential()\n",
        "densenet_model_main.add(base_model)\n",
        "densenet_model_main.add(layers.Flatten(name='flatten'))\n",
        "intermediate_features = densenet_model_main.layers[-1].output\n",
        "attention_weights = layers.Dense(1, activation='softmax')(intermediate_features)\n",
        "attention_weights = layers.Reshape((1, 1, -1))(attention_weights)\n",
        "densenet_model_main.add(layers.Dense(10, activation='relu'))\n",
        "densenet_model_main.layers[0].trainable = False"
      ],
      "metadata": {
        "id": "doVSH0F0E07E"
      },
      "execution_count": null,
      "outputs": []
    },
    {
      "cell_type": "code",
      "source": [],
      "metadata": {
        "id": "9MvAooK1GlhB"
      },
      "execution_count": null,
      "outputs": []
    },
    {
      "cell_type": "markdown",
      "source": [
        "### For Finding Individual Feature of whole"
      ],
      "metadata": {
        "id": "7Rr09yHYGlxW"
      }
    },
    {
      "cell_type": "code",
      "source": [
        "# because whole have 224X224x3 so we have to tweak model likewise"
      ],
      "metadata": {
        "id": "K0L3DORZGwF-"
      },
      "execution_count": null,
      "outputs": []
    },
    {
      "cell_type": "code",
      "source": [
        "intermediate_model_2= Model(inputs=densenet_model_main.input, outputs=densenet_model_main.get_layer('flatten').output)\n"
      ],
      "metadata": {
        "id": "TzQDEx-hFT8f"
      },
      "execution_count": null,
      "outputs": []
    },
    {
      "cell_type": "code",
      "source": [
        "intermediate_output_main_train = intermediate_model_2.predict(X_train)"
      ],
      "metadata": {
        "id": "KSDx6_cTFT_1",
        "colab": {
          "base_uri": "https://localhost:8080/",
          "height": 651
        },
        "outputId": "fcf291e8-c2e7-49f7-948d-bbf0dbb43f86"
      },
      "execution_count": null,
      "outputs": [
        {
          "output_type": "error",
          "ename": "ValueError",
          "evalue": "in user code:\n\n    File \"/usr/local/lib/python3.10/dist-packages/keras/src/engine/training.py\", line 2440, in predict_function  *\n        return step_function(self, iterator)\n    File \"/usr/local/lib/python3.10/dist-packages/keras/src/engine/training.py\", line 2425, in step_function  **\n        outputs = model.distribute_strategy.run(run_step, args=(data,))\n    File \"/usr/local/lib/python3.10/dist-packages/keras/src/engine/training.py\", line 2413, in run_step  **\n        outputs = model.predict_step(data)\n    File \"/usr/local/lib/python3.10/dist-packages/keras/src/engine/training.py\", line 2381, in predict_step\n        return self(x, training=False)\n    File \"/usr/local/lib/python3.10/dist-packages/keras/src/utils/traceback_utils.py\", line 70, in error_handler\n        raise e.with_traceback(filtered_tb) from None\n    File \"/usr/local/lib/python3.10/dist-packages/keras/src/engine/input_spec.py\", line 298, in assert_input_compatibility\n        raise ValueError(\n\n    ValueError: Input 0 of layer \"model_2\" is incompatible with the layer: expected shape=(None, 128, 128, 3), found shape=(None, 224, 224, 3)\n",
          "traceback": [
            "\u001b[0;31m---------------------------------------------------------------------------\u001b[0m",
            "\u001b[0;31mValueError\u001b[0m                                Traceback (most recent call last)",
            "\u001b[0;32m<ipython-input-55-94ab5b59d7c8>\u001b[0m in \u001b[0;36m<cell line: 1>\u001b[0;34m()\u001b[0m\n\u001b[0;32m----> 1\u001b[0;31m \u001b[0mintermediate_output_main_train\u001b[0m \u001b[0;34m=\u001b[0m \u001b[0mintermediate_model_2\u001b[0m\u001b[0;34m.\u001b[0m\u001b[0mpredict\u001b[0m\u001b[0;34m(\u001b[0m\u001b[0mX_train\u001b[0m\u001b[0;34m)\u001b[0m\u001b[0;34m\u001b[0m\u001b[0;34m\u001b[0m\u001b[0m\n\u001b[0m",
            "\u001b[0;32m/usr/local/lib/python3.10/dist-packages/keras/src/utils/traceback_utils.py\u001b[0m in \u001b[0;36merror_handler\u001b[0;34m(*args, **kwargs)\u001b[0m\n\u001b[1;32m     68\u001b[0m             \u001b[0;31m# To get the full stack trace, call:\u001b[0m\u001b[0;34m\u001b[0m\u001b[0;34m\u001b[0m\u001b[0m\n\u001b[1;32m     69\u001b[0m             \u001b[0;31m# `tf.debugging.disable_traceback_filtering()`\u001b[0m\u001b[0;34m\u001b[0m\u001b[0;34m\u001b[0m\u001b[0m\n\u001b[0;32m---> 70\u001b[0;31m             \u001b[0;32mraise\u001b[0m \u001b[0me\u001b[0m\u001b[0;34m.\u001b[0m\u001b[0mwith_traceback\u001b[0m\u001b[0;34m(\u001b[0m\u001b[0mfiltered_tb\u001b[0m\u001b[0;34m)\u001b[0m \u001b[0;32mfrom\u001b[0m \u001b[0;32mNone\u001b[0m\u001b[0;34m\u001b[0m\u001b[0;34m\u001b[0m\u001b[0m\n\u001b[0m\u001b[1;32m     71\u001b[0m         \u001b[0;32mfinally\u001b[0m\u001b[0;34m:\u001b[0m\u001b[0;34m\u001b[0m\u001b[0;34m\u001b[0m\u001b[0m\n\u001b[1;32m     72\u001b[0m             \u001b[0;32mdel\u001b[0m \u001b[0mfiltered_tb\u001b[0m\u001b[0;34m\u001b[0m\u001b[0;34m\u001b[0m\u001b[0m\n",
            "\u001b[0;32m/usr/local/lib/python3.10/dist-packages/keras/src/engine/training.py\u001b[0m in \u001b[0;36mtf__predict_function\u001b[0;34m(iterator)\u001b[0m\n\u001b[1;32m     13\u001b[0m                 \u001b[0;32mtry\u001b[0m\u001b[0;34m:\u001b[0m\u001b[0;34m\u001b[0m\u001b[0;34m\u001b[0m\u001b[0m\n\u001b[1;32m     14\u001b[0m                     \u001b[0mdo_return\u001b[0m \u001b[0;34m=\u001b[0m \u001b[0;32mTrue\u001b[0m\u001b[0;34m\u001b[0m\u001b[0;34m\u001b[0m\u001b[0m\n\u001b[0;32m---> 15\u001b[0;31m                     \u001b[0mretval_\u001b[0m \u001b[0;34m=\u001b[0m \u001b[0mag__\u001b[0m\u001b[0;34m.\u001b[0m\u001b[0mconverted_call\u001b[0m\u001b[0;34m(\u001b[0m\u001b[0mag__\u001b[0m\u001b[0;34m.\u001b[0m\u001b[0mld\u001b[0m\u001b[0;34m(\u001b[0m\u001b[0mstep_function\u001b[0m\u001b[0;34m)\u001b[0m\u001b[0;34m,\u001b[0m \u001b[0;34m(\u001b[0m\u001b[0mag__\u001b[0m\u001b[0;34m.\u001b[0m\u001b[0mld\u001b[0m\u001b[0;34m(\u001b[0m\u001b[0mself\u001b[0m\u001b[0;34m)\u001b[0m\u001b[0;34m,\u001b[0m \u001b[0mag__\u001b[0m\u001b[0;34m.\u001b[0m\u001b[0mld\u001b[0m\u001b[0;34m(\u001b[0m\u001b[0miterator\u001b[0m\u001b[0;34m)\u001b[0m\u001b[0;34m)\u001b[0m\u001b[0;34m,\u001b[0m \u001b[0;32mNone\u001b[0m\u001b[0;34m,\u001b[0m \u001b[0mfscope\u001b[0m\u001b[0;34m)\u001b[0m\u001b[0;34m\u001b[0m\u001b[0;34m\u001b[0m\u001b[0m\n\u001b[0m\u001b[1;32m     16\u001b[0m                 \u001b[0;32mexcept\u001b[0m\u001b[0;34m:\u001b[0m\u001b[0;34m\u001b[0m\u001b[0;34m\u001b[0m\u001b[0m\n\u001b[1;32m     17\u001b[0m                     \u001b[0mdo_return\u001b[0m \u001b[0;34m=\u001b[0m \u001b[0;32mFalse\u001b[0m\u001b[0;34m\u001b[0m\u001b[0;34m\u001b[0m\u001b[0m\n",
            "\u001b[0;31mValueError\u001b[0m: in user code:\n\n    File \"/usr/local/lib/python3.10/dist-packages/keras/src/engine/training.py\", line 2440, in predict_function  *\n        return step_function(self, iterator)\n    File \"/usr/local/lib/python3.10/dist-packages/keras/src/engine/training.py\", line 2425, in step_function  **\n        outputs = model.distribute_strategy.run(run_step, args=(data,))\n    File \"/usr/local/lib/python3.10/dist-packages/keras/src/engine/training.py\", line 2413, in run_step  **\n        outputs = model.predict_step(data)\n    File \"/usr/local/lib/python3.10/dist-packages/keras/src/engine/training.py\", line 2381, in predict_step\n        return self(x, training=False)\n    File \"/usr/local/lib/python3.10/dist-packages/keras/src/utils/traceback_utils.py\", line 70, in error_handler\n        raise e.with_traceback(filtered_tb) from None\n    File \"/usr/local/lib/python3.10/dist-packages/keras/src/engine/input_spec.py\", line 298, in assert_input_compatibility\n        raise ValueError(\n\n    ValueError: Input 0 of layer \"model_2\" is incompatible with the layer: expected shape=(None, 128, 128, 3), found shape=(None, 224, 224, 3)\n"
          ]
        }
      ]
    },
    {
      "cell_type": "code",
      "source": [
        "intermediate_output_main_valid = intermediate_model_2.predict(X_valid)"
      ],
      "metadata": {
        "id": "E_TSYcZYG_Em"
      },
      "execution_count": null,
      "outputs": []
    },
    {
      "cell_type": "code",
      "source": [
        "intermediate_output_main_test = intermediate_model_2.predict(X_test)"
      ],
      "metadata": {
        "id": "2pogCEq_HFJd",
        "colab": {
          "base_uri": "https://localhost:8080/",
          "height": 651
        },
        "outputId": "283f03d2-7a08-461d-815b-6154b12a73c9"
      },
      "execution_count": null,
      "outputs": [
        {
          "output_type": "error",
          "ename": "ValueError",
          "evalue": "in user code:\n\n    File \"/usr/local/lib/python3.10/dist-packages/keras/src/engine/training.py\", line 2440, in predict_function  *\n        return step_function(self, iterator)\n    File \"/usr/local/lib/python3.10/dist-packages/keras/src/engine/training.py\", line 2425, in step_function  **\n        outputs = model.distribute_strategy.run(run_step, args=(data,))\n    File \"/usr/local/lib/python3.10/dist-packages/keras/src/engine/training.py\", line 2413, in run_step  **\n        outputs = model.predict_step(data)\n    File \"/usr/local/lib/python3.10/dist-packages/keras/src/engine/training.py\", line 2381, in predict_step\n        return self(x, training=False)\n    File \"/usr/local/lib/python3.10/dist-packages/keras/src/utils/traceback_utils.py\", line 70, in error_handler\n        raise e.with_traceback(filtered_tb) from None\n    File \"/usr/local/lib/python3.10/dist-packages/keras/src/engine/input_spec.py\", line 298, in assert_input_compatibility\n        raise ValueError(\n\n    ValueError: Input 0 of layer \"model_2\" is incompatible with the layer: expected shape=(None, 128, 128, 3), found shape=(None, 224, 224, 3)\n",
          "traceback": [
            "\u001b[0;31m---------------------------------------------------------------------------\u001b[0m",
            "\u001b[0;31mValueError\u001b[0m                                Traceback (most recent call last)",
            "\u001b[0;32m<ipython-input-56-df40ff0fa3b5>\u001b[0m in \u001b[0;36m<cell line: 1>\u001b[0;34m()\u001b[0m\n\u001b[0;32m----> 1\u001b[0;31m \u001b[0mintermediate_output_main_test\u001b[0m \u001b[0;34m=\u001b[0m \u001b[0mintermediate_model_2\u001b[0m\u001b[0;34m.\u001b[0m\u001b[0mpredict\u001b[0m\u001b[0;34m(\u001b[0m\u001b[0mX_test\u001b[0m\u001b[0;34m)\u001b[0m\u001b[0;34m\u001b[0m\u001b[0;34m\u001b[0m\u001b[0m\n\u001b[0m",
            "\u001b[0;32m/usr/local/lib/python3.10/dist-packages/keras/src/utils/traceback_utils.py\u001b[0m in \u001b[0;36merror_handler\u001b[0;34m(*args, **kwargs)\u001b[0m\n\u001b[1;32m     68\u001b[0m             \u001b[0;31m# To get the full stack trace, call:\u001b[0m\u001b[0;34m\u001b[0m\u001b[0;34m\u001b[0m\u001b[0m\n\u001b[1;32m     69\u001b[0m             \u001b[0;31m# `tf.debugging.disable_traceback_filtering()`\u001b[0m\u001b[0;34m\u001b[0m\u001b[0;34m\u001b[0m\u001b[0m\n\u001b[0;32m---> 70\u001b[0;31m             \u001b[0;32mraise\u001b[0m \u001b[0me\u001b[0m\u001b[0;34m.\u001b[0m\u001b[0mwith_traceback\u001b[0m\u001b[0;34m(\u001b[0m\u001b[0mfiltered_tb\u001b[0m\u001b[0;34m)\u001b[0m \u001b[0;32mfrom\u001b[0m \u001b[0;32mNone\u001b[0m\u001b[0;34m\u001b[0m\u001b[0;34m\u001b[0m\u001b[0m\n\u001b[0m\u001b[1;32m     71\u001b[0m         \u001b[0;32mfinally\u001b[0m\u001b[0;34m:\u001b[0m\u001b[0;34m\u001b[0m\u001b[0;34m\u001b[0m\u001b[0m\n\u001b[1;32m     72\u001b[0m             \u001b[0;32mdel\u001b[0m \u001b[0mfiltered_tb\u001b[0m\u001b[0;34m\u001b[0m\u001b[0;34m\u001b[0m\u001b[0m\n",
            "\u001b[0;32m/usr/local/lib/python3.10/dist-packages/keras/src/engine/training.py\u001b[0m in \u001b[0;36mtf__predict_function\u001b[0;34m(iterator)\u001b[0m\n\u001b[1;32m     13\u001b[0m                 \u001b[0;32mtry\u001b[0m\u001b[0;34m:\u001b[0m\u001b[0;34m\u001b[0m\u001b[0;34m\u001b[0m\u001b[0m\n\u001b[1;32m     14\u001b[0m                     \u001b[0mdo_return\u001b[0m \u001b[0;34m=\u001b[0m \u001b[0;32mTrue\u001b[0m\u001b[0;34m\u001b[0m\u001b[0;34m\u001b[0m\u001b[0m\n\u001b[0;32m---> 15\u001b[0;31m                     \u001b[0mretval_\u001b[0m \u001b[0;34m=\u001b[0m \u001b[0mag__\u001b[0m\u001b[0;34m.\u001b[0m\u001b[0mconverted_call\u001b[0m\u001b[0;34m(\u001b[0m\u001b[0mag__\u001b[0m\u001b[0;34m.\u001b[0m\u001b[0mld\u001b[0m\u001b[0;34m(\u001b[0m\u001b[0mstep_function\u001b[0m\u001b[0;34m)\u001b[0m\u001b[0;34m,\u001b[0m \u001b[0;34m(\u001b[0m\u001b[0mag__\u001b[0m\u001b[0;34m.\u001b[0m\u001b[0mld\u001b[0m\u001b[0;34m(\u001b[0m\u001b[0mself\u001b[0m\u001b[0;34m)\u001b[0m\u001b[0;34m,\u001b[0m \u001b[0mag__\u001b[0m\u001b[0;34m.\u001b[0m\u001b[0mld\u001b[0m\u001b[0;34m(\u001b[0m\u001b[0miterator\u001b[0m\u001b[0;34m)\u001b[0m\u001b[0;34m)\u001b[0m\u001b[0;34m,\u001b[0m \u001b[0;32mNone\u001b[0m\u001b[0;34m,\u001b[0m \u001b[0mfscope\u001b[0m\u001b[0;34m)\u001b[0m\u001b[0;34m\u001b[0m\u001b[0;34m\u001b[0m\u001b[0m\n\u001b[0m\u001b[1;32m     16\u001b[0m                 \u001b[0;32mexcept\u001b[0m\u001b[0;34m:\u001b[0m\u001b[0;34m\u001b[0m\u001b[0;34m\u001b[0m\u001b[0m\n\u001b[1;32m     17\u001b[0m                     \u001b[0mdo_return\u001b[0m \u001b[0;34m=\u001b[0m \u001b[0;32mFalse\u001b[0m\u001b[0;34m\u001b[0m\u001b[0;34m\u001b[0m\u001b[0m\n",
            "\u001b[0;31mValueError\u001b[0m: in user code:\n\n    File \"/usr/local/lib/python3.10/dist-packages/keras/src/engine/training.py\", line 2440, in predict_function  *\n        return step_function(self, iterator)\n    File \"/usr/local/lib/python3.10/dist-packages/keras/src/engine/training.py\", line 2425, in step_function  **\n        outputs = model.distribute_strategy.run(run_step, args=(data,))\n    File \"/usr/local/lib/python3.10/dist-packages/keras/src/engine/training.py\", line 2413, in run_step  **\n        outputs = model.predict_step(data)\n    File \"/usr/local/lib/python3.10/dist-packages/keras/src/engine/training.py\", line 2381, in predict_step\n        return self(x, training=False)\n    File \"/usr/local/lib/python3.10/dist-packages/keras/src/utils/traceback_utils.py\", line 70, in error_handler\n        raise e.with_traceback(filtered_tb) from None\n    File \"/usr/local/lib/python3.10/dist-packages/keras/src/engine/input_spec.py\", line 298, in assert_input_compatibility\n        raise ValueError(\n\n    ValueError: Input 0 of layer \"model_2\" is incompatible with the layer: expected shape=(None, 128, 128, 3), found shape=(None, 224, 224, 3)\n"
          ]
        }
      ]
    },
    {
      "cell_type": "code",
      "source": [
        "intermediate_output_main_train.shape"
      ],
      "metadata": {
        "id": "7DXcLjNUHJHu"
      },
      "execution_count": null,
      "outputs": []
    },
    {
      "cell_type": "code",
      "source": [
        "intermediate_output_main_valid.shape"
      ],
      "metadata": {
        "id": "9w69U-mVHaMH"
      },
      "execution_count": null,
      "outputs": []
    },
    {
      "cell_type": "code",
      "source": [
        "intermediate_output_main_test.shape"
      ],
      "metadata": {
        "id": "KHOJ28XLHdqI"
      },
      "execution_count": null,
      "outputs": []
    },
    {
      "cell_type": "code",
      "source": [],
      "metadata": {
        "id": "9CFhhgmgHfKG"
      },
      "execution_count": null,
      "outputs": []
    },
    {
      "cell_type": "markdown",
      "source": [
        "## Combined Features for Fitting"
      ],
      "metadata": {
        "id": "KBhgXXenLtoc"
      }
    },
    {
      "cell_type": "code",
      "source": [
        "combined_features = []\n",
        "for i in range(len(intermediate_output_bl)):\n",
        "  combined_features.append(np.concatenate((intermediate_output_bl,intermediate_output_br,intermediate_output_tl, intermediate_output_tr), axis=0))\n",
        "combined_features = np.array(combined_features)\n",
        "combined_features.shape"
      ],
      "metadata": {
        "id": "OMooS8IbHq1Z"
      },
      "execution_count": null,
      "outputs": []
    },
    {
      "cell_type": "code",
      "source": [
        "# combined_features_valid = []\n",
        "# for i in range(len(intermediate_output_bl_valid)):\n",
        "#   combined_features_valid.append(np.concatenate((intermediate_output_bl_valid,intermediate_output_br_valid,intermediate_output_tl_valid, intermediate_output_tr_valid), axis=0))\n",
        "# combined_features_valid = np.array(combined_features_valid)\n",
        "# combined_features_valid.shape"
      ],
      "metadata": {
        "id": "uPHxe7jFHq5K"
      },
      "execution_count": null,
      "outputs": []
    },
    {
      "cell_type": "code",
      "source": [
        "combined_features_test = []\n",
        "for i in range(len(intermediate_output_bl_test)):\n",
        "    combined_features_test.append(np.concatenate((intermediate_output_bl_test, intermediate_output_br_test, intermediate_output_tl_test, intermediate_output_tr_test), axis=0))\n",
        "combined_features_test = np.array(combined_features_test)\n",
        "combined_features_test.shape\n"
      ],
      "metadata": {
        "id": "ZILGTps0Hq8T"
      },
      "execution_count": null,
      "outputs": []
    },
    {
      "cell_type": "markdown",
      "source": [
        "# Main Model"
      ],
      "metadata": {
        "id": "UgpURGcMlvMy"
      }
    },
    {
      "cell_type": "code",
      "source": [
        "input_layer = layers.Input(shape=(None,250880))\n",
        "densenet_model_3= Sequential()\n",
        "densenet_model_3.add(input_layer)\n",
        "densenet_model_3.add(layers.Dense(256, activation='relu'))\n",
        "densenet_model_3.add(layers.Dense(128, activation='relu'))\n",
        "densenet_model_3.add(layers.Dense(64, activation='relu'))\n",
        "densenet_model_3.add(layers.Dense(NUM_CLASSES, activation='softmax'))"
      ],
      "metadata": {
        "id": "UeMtXh2blyEs"
      },
      "execution_count": null,
      "outputs": []
    },
    {
      "cell_type": "code",
      "source": [
        "optimizer=keras.optimizers.Adam(learning_rate=0.001)\n",
        "losses=keras.losses.SparseCategoricalCrossentropy()\n",
        "metrics=['accuracy']\n",
        "densenet_model_3.compile(optimizer=optimizer,loss=losses,metrics=metrics)"
      ],
      "metadata": {
        "id": "yh_tbL2Wl4Cy"
      },
      "execution_count": null,
      "outputs": []
    },
    {
      "cell_type": "code",
      "source": [
        "densenet_model_3.summary()"
      ],
      "metadata": {
        "id": "MM64hwr4l6as"
      },
      "execution_count": null,
      "outputs": []
    },
    {
      "cell_type": "code",
      "source": [
        "callback1 = EarlyStopping(monitor='val_accuracy', patience=10)\n",
        "# callback2 = keras.callbacks.ModelCheckpoint(filepath='/content/drive/MyDrive/Colab Notebooks/IQ_OTH_Dataset/Models_with_Attention_ChannelWise/DenseNet121_model.h5', monitor='val_accuracy', save_best_only=True)\n",
        "\n",
        "history_densenetModel = densenet_model_3.fit(combined_features,y_train, epochs=2, batch_size=32, validation_data=(combined_features_valid,y_valid), callbacks=[callback1])"
      ],
      "metadata": {
        "id": "0d_lZQ87l9Kg"
      },
      "execution_count": null,
      "outputs": []
    },
    {
      "cell_type": "markdown",
      "source": [
        "# Model Evaluation"
      ],
      "metadata": {
        "id": "Zo5o7OIvl_Uv"
      }
    },
    {
      "cell_type": "code",
      "source": [
        "test_loss, test_accuracy = densenet_model_3.evaluate(combined_features_test,y_test)\n",
        "print('Test Loss:', test_loss)\n",
        "print('Test Accuracy:', test_accuracy)"
      ],
      "metadata": {
        "id": "sxtejqcJmBR2"
      },
      "execution_count": null,
      "outputs": []
    },
    {
      "cell_type": "code",
      "source": [
        "y_pred = densenet_model_3.predict(combined_features_test, verbose=1)\n",
        "y_pred_2 = np.argmax(y_pred, axis=1)\n",
        "\n",
        "print(classification_report(y_valid, y_pred_2))"
      ],
      "metadata": {
        "id": "ncFRtwgbmDkV"
      },
      "execution_count": null,
      "outputs": []
    },
    {
      "cell_type": "code",
      "source": [
        "cm= confusion_matrix(y_true=y_test, y_pred=y_pred_2)\n",
        "target_names = [\"Benign\", \"Malignant\", \"Normal\"]\n",
        "disp = ConfusionMatrixDisplay(confusion_matrix=cm, display_labels=target_names)\n",
        "disp.plot(cmap='Blues')\n",
        "plt.xlabel('Predicted label')\n",
        "plt.ylabel('True label')\n",
        "plt.title('Confusion Matrix')\n",
        "plt.show"
      ],
      "metadata": {
        "id": "zK66LxIJmDmT"
      },
      "execution_count": null,
      "outputs": []
    },
    {
      "cell_type": "code",
      "source": [
        "history_dict = history_densenetModel.history\n",
        "\n",
        "acc_values = history_dict['accuracy']\n",
        "val_acc_values = history_dict['val_accuracy']\n",
        "epochs = range(1, len(acc_values) + 1)\n",
        "\n",
        "line1 = plt.plot(epochs, val_acc_values, label = 'Validation/Test Accuracy')\n",
        "line2 = plt.plot(epochs, acc_values, label = 'Training Accuracy')\n",
        "\n",
        "plt.setp(line1)\n",
        "plt.setp(line2)\n",
        "plt.xlabel('Epochs')\n",
        "plt.ylabel('Accuracy')\n",
        "plt.grid(True)\n",
        "plt.legend()\n",
        "plt.show()"
      ],
      "metadata": {
        "id": "wNuDTmAkmHAp"
      },
      "execution_count": null,
      "outputs": []
    },
    {
      "cell_type": "code",
      "source": [
        "loss_values = history_dict['loss']\n",
        "val_loss_values = history_dict['val_loss']\n",
        "epochs = range(1, len(loss_values) + 1)\n",
        "\n",
        "line1 = plt.plot(epochs, val_loss_values, label = 'Validation/Test Loss')\n",
        "line2 = plt.plot(epochs, loss_values, label = 'Training Loss')\n",
        "\n",
        "plt.setp(line1)\n",
        "plt.setp(line2)\n",
        "plt.xlabel('Epochs')\n",
        "plt.ylabel('Loss')\n",
        "plt.grid(True)\n",
        "plt.legend()\n",
        "plt.show"
      ],
      "metadata": {
        "id": "RUnwx2ccmHDV"
      },
      "execution_count": null,
      "outputs": []
    },
    {
      "cell_type": "code",
      "source": [
        "#One vs One\n",
        "roc_auc_score(y_valid, y_pred,multi_class='ovo')"
      ],
      "metadata": {
        "id": "jn3nmw-LmLGK"
      },
      "execution_count": null,
      "outputs": []
    },
    {
      "cell_type": "code",
      "source": [
        "#One vs Rest\n",
        "roc_auc_score(y_valid, y_pred,multi_class='ovr')"
      ],
      "metadata": {
        "id": "xqJXFzJmmLIt"
      },
      "execution_count": null,
      "outputs": []
    }
  ]
}