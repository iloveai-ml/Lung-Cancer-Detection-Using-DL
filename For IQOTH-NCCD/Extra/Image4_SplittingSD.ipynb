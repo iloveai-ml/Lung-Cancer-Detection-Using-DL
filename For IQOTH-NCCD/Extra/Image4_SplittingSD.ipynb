{
  "cells": [
    {
      "cell_type": "code",
      "execution_count": null,
      "metadata": {
        "id": "UyBh-OJEEekb"
      },
      "outputs": [],
      "source": []
    },
    {
      "cell_type": "markdown",
      "metadata": {
        "id": "Ym1Jop7MS4wF"
      },
      "source": [
        "# Importing Libraries"
      ]
    },
    {
      "cell_type": "code",
      "execution_count": 1,
      "metadata": {
        "id": "9dC_g7zSTPx6"
      },
      "outputs": [],
      "source": [
        "import tensorflow as tf\n",
        "import numpy as np\n",
        "import cv2\n",
        "import os\n",
        "import numpy as np\n",
        "import pandas as pd\n",
        "import imageio\n",
        "import random\n",
        "import matplotlib.pyplot as plt\n",
        "import keras\n",
        "import tensorflow.keras as K\n",
        "import tensorflow.keras.backend as Kback\n",
        "\n",
        "from keras import layers\n",
        "from keras.layers import Input\n",
        "from keras.layers import Conv2D\n",
        "from keras.layers import MaxPooling2D\n",
        "from keras.layers import AveragePooling2D\n",
        "from keras.layers import Dropout\n",
        "from keras.layers import Conv2DTranspose\n",
        "from keras.layers import concatenate\n",
        "from keras.layers import BatchNormalization\n",
        "from keras.preprocessing.image import ImageDataGenerator\n",
        "from keras.models import Sequential, Model\n",
        "from keras.layers import Dense, Dropout, Activation, Flatten\n",
        "from keras.callbacks import EarlyStopping\n",
        "from keras.applications.resnet import ResNet50\n",
        "from keras.applications import vgg16\n",
        "from keras.applications import inception_v3\n",
        "from keras.src.applications.vgg16 import VGG16\n",
        "from keras.applications.vgg19 import VGG19\n",
        "from keras.applications.mobilenet_v2 import MobileNetV2\n",
        "from keras.applications import DenseNet121, NASNetMobile, EfficientNetB0, Xception\n",
        "from keras.layers import GlobalAveragePooling2D\n",
        "from keras.applications.densenet import DenseNet121\n",
        "\n",
        "from sklearn.metrics import classification_report\n",
        "from sklearn.metrics import confusion_matrix, ConfusionMatrixDisplay\n",
        "from sklearn.model_selection import train_test_split\n",
        "from sklearn.utils import shuffle\n",
        "from sklearn.utils.class_weight import compute_class_weight\n",
        "\n",
        "\n",
        "from collections import Counter\n",
        "from sklearn.metrics import RocCurveDisplay\n",
        "from sklearn.metrics import roc_auc_score"
      ]
    },
    {
      "cell_type": "code",
      "execution_count": 2,
      "metadata": {
        "colab": {
          "base_uri": "https://localhost:8080/"
        },
        "id": "Ngl4Kvx-TPx7",
        "outputId": "cee0c050-38e6-4beb-bb7a-f845ef9976da"
      },
      "outputs": [
        {
          "name": "stdout",
          "output_type": "stream",
          "text": [
            "Mounted at /content/drive\n"
          ]
        }
      ],
      "source": [
        "from google.colab import drive\n",
        "drive.mount('/content/drive')"
      ]
    },
    {
      "cell_type": "markdown",
      "metadata": {
        "id": "eCgoW8IR_sNe"
      },
      "source": [
        "# Data Loadng\n"
      ]
    },
    {
      "cell_type": "code",
      "execution_count": 3,
      "metadata": {
        "id": "b15uN3fM-VA9"
      },
      "outputs": [],
      "source": [
        "import os\n",
        "import cv2\n",
        "import numpy as np\n",
        "from sklearn.model_selection import train_test_split\n",
        "\n",
        "# Define the base path to your dataset\n",
        "base_path = '/content/drive/My Drive/LUNGCANCER/IQ-OTH/The IQ-OTHNCCD lung cancer dataset'\n",
        "\n",
        "# List of class names (A, B, C)\n",
        "class_names =  [\"Normal cases\", \"Malignant cases\", \"Bengin cases\"]\n",
        "\n",
        "# Initialize empty lists for images and labels\n",
        "all_images = []\n",
        "all_labels = []\n",
        "\n",
        "# Load images and assign labels\n",
        "for label, class_name in enumerate(class_names):\n",
        "    class_path = os.path.join(base_path, class_name)\n",
        "    image_files = os.listdir(class_path)\n",
        "\n",
        "    for image_file in image_files:\n",
        "        image_path = os.path.join(class_path, image_file)\n",
        "        img = cv2.imread(image_path, cv2.IMREAD_COLOR)  # Read as GBR\n",
        "        img = cv2.cvtColor(img,cv2.COLOR_BGR2RGB)\n",
        "\n",
        "\n",
        "        # img = cv2.imread(image_path, cv2.IMREAD_GRAYSCALE)  # Read as grayscale\n",
        "        img = cv2.resize(img, (224, 224))  # Resize to desired dimensions\n",
        "        img = img / 255.0  # Normalize pixel values (assuming 8-bit images)\n",
        "        all_images.append(img)\n",
        "        all_labels.append(label)\n"
      ]
    },
    {
      "cell_type": "markdown",
      "metadata": {
        "id": "HZH67v-X_riR"
      },
      "source": []
    },
    {
      "cell_type": "code",
      "execution_count": 4,
      "metadata": {
        "id": "6_WsGBtI-V3K"
      },
      "outputs": [],
      "source": [
        "data=all_images\n",
        "labels=all_labels"
      ]
    },
    {
      "cell_type": "code",
      "execution_count": 5,
      "metadata": {
        "colab": {
          "base_uri": "https://localhost:8080/"
        },
        "id": "hANoWw4p-V6p",
        "outputId": "d37e3ed2-74f9-46d7-a64f-98b1d4ed3ef5"
      },
      "outputs": [
        {
          "name": "stdout",
          "output_type": "stream",
          "text": [
            "Data length: 1097\n",
            "labels counts: Counter({1: 561, 0: 416, 2: 120})\n"
          ]
        }
      ],
      "source": [
        "data, labels = shuffle(data, labels, random_state=42)\n",
        "\n",
        "\n",
        "print('Data length:', len(data))\n",
        "print('labels counts:', Counter(labels))\n",
        "\n",
        "X = np.array(data).reshape(-1, 224, 224, 3)\n",
        "y = np.array(labels)"
      ]
    },
    {
      "cell_type": "markdown",
      "metadata": {
        "id": "sgAQaGFq_7If"
      },
      "source": [
        "# Train Test Valid Split"
      ]
    },
    {
      "cell_type": "code",
      "execution_count": 6,
      "metadata": {
        "colab": {
          "base_uri": "https://localhost:8080/"
        },
        "id": "7w09MIwM-V8_",
        "outputId": "0bcf6fb4-6056-4a8f-dc27-99f011884453"
      },
      "outputs": [
        {
          "name": "stdout",
          "output_type": "stream",
          "text": [
            "Train length: 877 (877, 224, 224, 3)\n",
            "Valid length: 44 (44, 224, 224, 3)\n",
            "Test length: 176 [[[[0.14901961 0.14901961 0.14901961]\n",
            "   [0.14901961 0.14901961 0.14901961]\n",
            "   [0.14901961 0.14901961 0.14901961]\n",
            "   ...\n",
            "   [0.14901961 0.14901961 0.14901961]\n",
            "   [0.14901961 0.14901961 0.14901961]\n",
            "   [0.14901961 0.14901961 0.14901961]]\n",
            "\n",
            "  [[0.14901961 0.14901961 0.14901961]\n",
            "   [0.14901961 0.14901961 0.14901961]\n",
            "   [0.14901961 0.14901961 0.14901961]\n",
            "   ...\n",
            "   [0.14901961 0.14901961 0.14901961]\n",
            "   [0.14901961 0.14901961 0.14901961]\n",
            "   [0.14901961 0.14901961 0.14901961]]\n",
            "\n",
            "  [[0.14901961 0.14901961 0.14901961]\n",
            "   [0.14901961 0.14901961 0.14901961]\n",
            "   [0.14901961 0.14901961 0.14901961]\n",
            "   ...\n",
            "   [0.14901961 0.14901961 0.14901961]\n",
            "   [0.14901961 0.14901961 0.14901961]\n",
            "   [0.14901961 0.14901961 0.14901961]]\n",
            "\n",
            "  ...\n",
            "\n",
            "  [[0.14901961 0.14901961 0.14901961]\n",
            "   [0.14901961 0.14901961 0.14901961]\n",
            "   [0.14901961 0.14901961 0.14901961]\n",
            "   ...\n",
            "   [0.14901961 0.14901961 0.14901961]\n",
            "   [0.14901961 0.14901961 0.14901961]\n",
            "   [0.14901961 0.14901961 0.14901961]]\n",
            "\n",
            "  [[0.14901961 0.14901961 0.14901961]\n",
            "   [0.14901961 0.14901961 0.14901961]\n",
            "   [0.14901961 0.14901961 0.14901961]\n",
            "   ...\n",
            "   [0.14901961 0.14901961 0.14901961]\n",
            "   [0.14901961 0.14901961 0.14901961]\n",
            "   [0.14901961 0.14901961 0.14901961]]\n",
            "\n",
            "  [[0.14901961 0.14901961 0.14901961]\n",
            "   [0.14901961 0.14901961 0.14901961]\n",
            "   [0.14901961 0.14901961 0.14901961]\n",
            "   ...\n",
            "   [0.14901961 0.14901961 0.14901961]\n",
            "   [0.14901961 0.14901961 0.14901961]\n",
            "   [0.14901961 0.14901961 0.14901961]]]\n",
            "\n",
            "\n",
            " [[[0.14901961 0.14901961 0.14901961]\n",
            "   [0.14901961 0.14901961 0.14901961]\n",
            "   [0.14901961 0.14901961 0.14901961]\n",
            "   ...\n",
            "   [0.14901961 0.14901961 0.14901961]\n",
            "   [0.14901961 0.14901961 0.14901961]\n",
            "   [0.14901961 0.14901961 0.14901961]]\n",
            "\n",
            "  [[0.14901961 0.14901961 0.14901961]\n",
            "   [0.14901961 0.14901961 0.14901961]\n",
            "   [0.14901961 0.14901961 0.14901961]\n",
            "   ...\n",
            "   [0.14901961 0.14901961 0.14901961]\n",
            "   [0.14901961 0.14901961 0.14901961]\n",
            "   [0.14901961 0.14901961 0.14901961]]\n",
            "\n",
            "  [[0.14901961 0.14901961 0.14901961]\n",
            "   [0.14901961 0.14901961 0.14901961]\n",
            "   [0.14901961 0.14901961 0.14901961]\n",
            "   ...\n",
            "   [0.14901961 0.14901961 0.14901961]\n",
            "   [0.14901961 0.14901961 0.14901961]\n",
            "   [0.14901961 0.14901961 0.14901961]]\n",
            "\n",
            "  ...\n",
            "\n",
            "  [[0.14901961 0.14901961 0.14901961]\n",
            "   [0.14901961 0.14901961 0.14901961]\n",
            "   [0.14901961 0.14901961 0.14901961]\n",
            "   ...\n",
            "   [0.14901961 0.14901961 0.14901961]\n",
            "   [0.14901961 0.14901961 0.14901961]\n",
            "   [0.14901961 0.14901961 0.14901961]]\n",
            "\n",
            "  [[0.14901961 0.14901961 0.14901961]\n",
            "   [0.14901961 0.14901961 0.14901961]\n",
            "   [0.14901961 0.14901961 0.14901961]\n",
            "   ...\n",
            "   [0.14901961 0.14901961 0.14901961]\n",
            "   [0.14901961 0.14901961 0.14901961]\n",
            "   [0.14901961 0.14901961 0.14901961]]\n",
            "\n",
            "  [[0.14901961 0.14901961 0.14901961]\n",
            "   [0.14901961 0.14901961 0.14901961]\n",
            "   [0.14901961 0.14901961 0.14901961]\n",
            "   ...\n",
            "   [0.14901961 0.14901961 0.14901961]\n",
            "   [0.14901961 0.14901961 0.14901961]\n",
            "   [0.14901961 0.14901961 0.14901961]]]\n",
            "\n",
            "\n",
            " [[[0.14901961 0.14901961 0.14901961]\n",
            "   [0.14901961 0.14901961 0.14901961]\n",
            "   [0.14901961 0.14901961 0.14901961]\n",
            "   ...\n",
            "   [0.14901961 0.14901961 0.14901961]\n",
            "   [0.14901961 0.14901961 0.14901961]\n",
            "   [0.14901961 0.14901961 0.14901961]]\n",
            "\n",
            "  [[0.14901961 0.14901961 0.14901961]\n",
            "   [0.14901961 0.14901961 0.14901961]\n",
            "   [0.14901961 0.14901961 0.14901961]\n",
            "   ...\n",
            "   [0.14901961 0.14901961 0.14901961]\n",
            "   [0.14901961 0.14901961 0.14901961]\n",
            "   [0.14901961 0.14901961 0.14901961]]\n",
            "\n",
            "  [[0.14901961 0.14901961 0.14901961]\n",
            "   [0.14901961 0.14901961 0.14901961]\n",
            "   [0.14901961 0.14901961 0.14901961]\n",
            "   ...\n",
            "   [0.14901961 0.14901961 0.14901961]\n",
            "   [0.14901961 0.14901961 0.14901961]\n",
            "   [0.14901961 0.14901961 0.14901961]]\n",
            "\n",
            "  ...\n",
            "\n",
            "  [[0.14901961 0.14901961 0.14901961]\n",
            "   [0.14901961 0.14901961 0.14901961]\n",
            "   [0.14901961 0.14901961 0.14901961]\n",
            "   ...\n",
            "   [0.14901961 0.14901961 0.14901961]\n",
            "   [0.14901961 0.14901961 0.14901961]\n",
            "   [0.14901961 0.14901961 0.14901961]]\n",
            "\n",
            "  [[0.14901961 0.14901961 0.14901961]\n",
            "   [0.14901961 0.14901961 0.14901961]\n",
            "   [0.14901961 0.14901961 0.14901961]\n",
            "   ...\n",
            "   [0.14901961 0.14901961 0.14901961]\n",
            "   [0.14901961 0.14901961 0.14901961]\n",
            "   [0.14901961 0.14901961 0.14901961]]\n",
            "\n",
            "  [[0.14901961 0.14901961 0.14901961]\n",
            "   [0.14901961 0.14901961 0.14901961]\n",
            "   [0.14901961 0.14901961 0.14901961]\n",
            "   ...\n",
            "   [0.14901961 0.14901961 0.14901961]\n",
            "   [0.14901961 0.14901961 0.14901961]\n",
            "   [0.14901961 0.14901961 0.14901961]]]\n",
            "\n",
            "\n",
            " ...\n",
            "\n",
            "\n",
            " [[[0.14901961 0.14901961 0.14901961]\n",
            "   [0.14901961 0.14901961 0.14901961]\n",
            "   [0.14901961 0.14901961 0.14901961]\n",
            "   ...\n",
            "   [0.14901961 0.14901961 0.14901961]\n",
            "   [0.14901961 0.14901961 0.14901961]\n",
            "   [0.14901961 0.14901961 0.14901961]]\n",
            "\n",
            "  [[0.14901961 0.14901961 0.14901961]\n",
            "   [0.14901961 0.14901961 0.14901961]\n",
            "   [0.14901961 0.14901961 0.14901961]\n",
            "   ...\n",
            "   [0.14901961 0.14901961 0.14901961]\n",
            "   [0.14901961 0.14901961 0.14901961]\n",
            "   [0.14901961 0.14901961 0.14901961]]\n",
            "\n",
            "  [[0.14901961 0.14901961 0.14901961]\n",
            "   [0.14901961 0.14901961 0.14901961]\n",
            "   [0.14901961 0.14901961 0.14901961]\n",
            "   ...\n",
            "   [0.14901961 0.14901961 0.14901961]\n",
            "   [0.14901961 0.14901961 0.14901961]\n",
            "   [0.14901961 0.14901961 0.14901961]]\n",
            "\n",
            "  ...\n",
            "\n",
            "  [[0.14901961 0.14901961 0.14901961]\n",
            "   [0.14901961 0.14901961 0.14901961]\n",
            "   [0.14901961 0.14901961 0.14901961]\n",
            "   ...\n",
            "   [0.14901961 0.14901961 0.14901961]\n",
            "   [0.14901961 0.14901961 0.14901961]\n",
            "   [0.14901961 0.14901961 0.14901961]]\n",
            "\n",
            "  [[0.14901961 0.14901961 0.14901961]\n",
            "   [0.14901961 0.14901961 0.14901961]\n",
            "   [0.14901961 0.14901961 0.14901961]\n",
            "   ...\n",
            "   [0.14901961 0.14901961 0.14901961]\n",
            "   [0.14901961 0.14901961 0.14901961]\n",
            "   [0.14901961 0.14901961 0.14901961]]\n",
            "\n",
            "  [[0.14901961 0.14901961 0.14901961]\n",
            "   [0.14901961 0.14901961 0.14901961]\n",
            "   [0.14901961 0.14901961 0.14901961]\n",
            "   ...\n",
            "   [0.14901961 0.14901961 0.14901961]\n",
            "   [0.14901961 0.14901961 0.14901961]\n",
            "   [0.14901961 0.14901961 0.14901961]]]\n",
            "\n",
            "\n",
            " [[[0.14901961 0.14901961 0.14901961]\n",
            "   [0.14901961 0.14901961 0.14901961]\n",
            "   [0.14901961 0.14901961 0.14901961]\n",
            "   ...\n",
            "   [0.15686275 0.15686275 0.15686275]\n",
            "   [0.16470588 0.16470588 0.16470588]\n",
            "   [0.16078431 0.16078431 0.16078431]]\n",
            "\n",
            "  [[0.14901961 0.14901961 0.14901961]\n",
            "   [0.14901961 0.14901961 0.14901961]\n",
            "   [0.14901961 0.14901961 0.14901961]\n",
            "   ...\n",
            "   [0.16078431 0.16078431 0.16078431]\n",
            "   [0.16470588 0.16470588 0.16470588]\n",
            "   [0.18039216 0.18039216 0.18039216]]\n",
            "\n",
            "  [[0.14901961 0.14901961 0.14901961]\n",
            "   [0.14901961 0.14901961 0.14901961]\n",
            "   [0.14901961 0.14901961 0.14901961]\n",
            "   ...\n",
            "   [0.16862745 0.16862745 0.16862745]\n",
            "   [0.19215686 0.19215686 0.19215686]\n",
            "   [0.16862745 0.16862745 0.16862745]]\n",
            "\n",
            "  ...\n",
            "\n",
            "  [[0.14901961 0.14901961 0.14901961]\n",
            "   [0.14901961 0.14901961 0.14901961]\n",
            "   [0.14901961 0.14901961 0.14901961]\n",
            "   ...\n",
            "   [0.15686275 0.15686275 0.15686275]\n",
            "   [0.18039216 0.18039216 0.18039216]\n",
            "   [0.18823529 0.18823529 0.18823529]]\n",
            "\n",
            "  [[0.14901961 0.14901961 0.14901961]\n",
            "   [0.14901961 0.14901961 0.14901961]\n",
            "   [0.14901961 0.14901961 0.14901961]\n",
            "   ...\n",
            "   [0.15686275 0.15686275 0.15686275]\n",
            "   [0.15686275 0.15686275 0.15686275]\n",
            "   [0.16078431 0.16078431 0.16078431]]\n",
            "\n",
            "  [[0.14901961 0.14901961 0.14901961]\n",
            "   [0.14901961 0.14901961 0.14901961]\n",
            "   [0.14901961 0.14901961 0.14901961]\n",
            "   ...\n",
            "   [0.19607843 0.19607843 0.19607843]\n",
            "   [0.16470588 0.16470588 0.16470588]\n",
            "   [0.16470588 0.16470588 0.16470588]]]\n",
            "\n",
            "\n",
            " [[[0.14901961 0.14901961 0.14901961]\n",
            "   [0.14901961 0.14901961 0.14901961]\n",
            "   [0.14901961 0.14901961 0.14901961]\n",
            "   ...\n",
            "   [0.14901961 0.14901961 0.14901961]\n",
            "   [0.14901961 0.14901961 0.14901961]\n",
            "   [0.14901961 0.14901961 0.14901961]]\n",
            "\n",
            "  [[0.14901961 0.14901961 0.14901961]\n",
            "   [0.14901961 0.14901961 0.14901961]\n",
            "   [0.14901961 0.14901961 0.14901961]\n",
            "   ...\n",
            "   [0.14901961 0.14901961 0.14901961]\n",
            "   [0.14901961 0.14901961 0.14901961]\n",
            "   [0.14901961 0.14901961 0.14901961]]\n",
            "\n",
            "  [[0.14901961 0.14901961 0.14901961]\n",
            "   [0.14901961 0.14901961 0.14901961]\n",
            "   [0.14901961 0.14901961 0.14901961]\n",
            "   ...\n",
            "   [0.14901961 0.14901961 0.14901961]\n",
            "   [0.14901961 0.14901961 0.14901961]\n",
            "   [0.14901961 0.14901961 0.14901961]]\n",
            "\n",
            "  ...\n",
            "\n",
            "  [[0.14901961 0.14901961 0.14901961]\n",
            "   [0.14901961 0.14901961 0.14901961]\n",
            "   [0.14901961 0.14901961 0.14901961]\n",
            "   ...\n",
            "   [0.14901961 0.14901961 0.14901961]\n",
            "   [0.14901961 0.14901961 0.14901961]\n",
            "   [0.14901961 0.14901961 0.14901961]]\n",
            "\n",
            "  [[0.14901961 0.14901961 0.14901961]\n",
            "   [0.14901961 0.14901961 0.14901961]\n",
            "   [0.14901961 0.14901961 0.14901961]\n",
            "   ...\n",
            "   [0.14901961 0.14901961 0.14901961]\n",
            "   [0.14901961 0.14901961 0.14901961]\n",
            "   [0.14901961 0.14901961 0.14901961]]\n",
            "\n",
            "  [[0.14901961 0.14901961 0.14901961]\n",
            "   [0.14901961 0.14901961 0.14901961]\n",
            "   [0.14901961 0.14901961 0.14901961]\n",
            "   ...\n",
            "   [0.14901961 0.14901961 0.14901961]\n",
            "   [0.14901961 0.14901961 0.14901961]\n",
            "   [0.14901961 0.14901961 0.14901961]]]]\n",
            "Train length: 877 (877, 224, 224, 3)\n",
            "Valid length: 44 (44, 224, 224, 3)\n",
            "Test length: 176 (176, 224, 224, 3)\n"
          ]
        }
      ],
      "source": [
        "X_train, X_mix, y_train, y_mix = train_test_split(X, y, test_size=0.2, random_state=10)\n",
        "X_test, X_valid, y_test, y_valid = train_test_split(X_mix, y_mix, test_size=0.2, random_state=10)\n",
        "print('Train length:', len(X_train), X_train.shape)\n",
        "print('Valid length:', len(X_valid), X_valid.shape)\n",
        "print('Test length:', len(X_test), X_test)\n",
        "train_datagen = ImageDataGenerator()\n",
        "val_datagen = ImageDataGenerator()\n",
        "test_datagen = ImageDataGenerator()\n",
        "# X,y valid are used for evaluate matrix\n",
        "\n",
        "print('Train length:', len(X_train), X_train.shape)\n",
        "print('Valid length:', len(X_valid), X_valid.shape)\n",
        "print('Test length:', len(X_test), X_test.shape)\n",
        "\n",
        "\n",
        "\n",
        "# train_generator = train_datagen.flow(X_fold, y_fold, batch_size=8, shuffle=True)\n",
        "# validation_generator = val_datagen.flow(X_valid, y_valid, batch_size=8, shuffle=True)"
      ]
    },
    {
      "cell_type": "code",
      "execution_count": 6,
      "metadata": {
        "id": "_LW3aCJX-W0z"
      },
      "outputs": [],
      "source": []
    },
    {
      "cell_type": "markdown",
      "metadata": {
        "id": "Tue0aeXyABQr"
      },
      "source": [
        "#T-B/L-R Split"
      ]
    },
    {
      "cell_type": "code",
      "execution_count": 24,
      "metadata": {
        "id": "bEeO-Ee3AGP4"
      },
      "outputs": [],
      "source": [
        "tl_train = []\n",
        "tl_valid = []\n",
        "tl_test=[]\n",
        "for i in range(len(X_train)):\n",
        "    tl_train.append(cv2.resize(X_train[i][:112, :112],(128,128)))\n",
        "tl_train = np.array(tl_train)\n",
        "\n",
        "for i in range(len(X_valid)):\n",
        "  tl_valid.append(cv2.resize(X_valid[i][:112, :112],(128,128)))\n",
        "tl_valid=np.array(tl_valid)\n",
        "\n",
        "for i in range(len(X_test)):\n",
        "  tl_test.append(cv2.resize(X_test[i][:112, :112],(128,128)))\n",
        "tl_test=np.array(tl_test)"
      ]
    },
    {
      "cell_type": "code",
      "execution_count": 25,
      "metadata": {
        "colab": {
          "base_uri": "https://localhost:8080/"
        },
        "id": "dYev-zFwAKcB",
        "outputId": "cf73f45d-1a93-4536-ec41-9410600c8587"
      },
      "outputs": [
        {
          "data": {
            "text/plain": [
              "(877, 224, 224, 3)"
            ]
          },
          "execution_count": 25,
          "metadata": {},
          "output_type": "execute_result"
        }
      ],
      "source": [
        "X_train.shape"
      ]
    },
    {
      "cell_type": "code",
      "execution_count": 26,
      "metadata": {
        "colab": {
          "base_uri": "https://localhost:8080/"
        },
        "id": "mb8_PFf5A72Y",
        "outputId": "391270c6-f848-4ed9-f022-e2ec6499b815"
      },
      "outputs": [
        {
          "data": {
            "text/plain": [
              "(877, 128, 128, 3)"
            ]
          },
          "execution_count": 26,
          "metadata": {},
          "output_type": "execute_result"
        }
      ],
      "source": [
        "tl_train.shape"
      ]
    },
    {
      "cell_type": "code",
      "execution_count": 27,
      "metadata": {
        "colab": {
          "base_uri": "https://localhost:8080/"
        },
        "id": "OIseSKwGAKyn",
        "outputId": "dc1b615c-ca22-4c22-ad6b-ee742bc14449"
      },
      "outputs": [
        {
          "data": {
            "text/plain": [
              "(44, 128, 128, 3)"
            ]
          },
          "execution_count": 27,
          "metadata": {},
          "output_type": "execute_result"
        }
      ],
      "source": [
        "tl_valid.shape"
      ]
    },
    {
      "cell_type": "code",
      "execution_count": 28,
      "metadata": {
        "colab": {
          "base_uri": "https://localhost:8080/"
        },
        "id": "lAlALwiHAK1r",
        "outputId": "f423b96f-35b3-4a69-e4cd-675d101239bb"
      },
      "outputs": [
        {
          "data": {
            "text/plain": [
              "(176, 128, 128, 3)"
            ]
          },
          "execution_count": 28,
          "metadata": {},
          "output_type": "execute_result"
        }
      ],
      "source": [
        "tl_test.shape"
      ]
    },
    {
      "cell_type": "code",
      "execution_count": 29,
      "metadata": {
        "id": "V5CQk5-4AK4v"
      },
      "outputs": [],
      "source": [
        "tr_train = []\n",
        "for i in range(len(X_train)):\n",
        "\n",
        "    tr_train.append(cv2.resize(X_train[i][:112, 112:],(128,128)))\n",
        "tr_train = np.array(tr_train)\n",
        "\n",
        "\n",
        "\n",
        "tr_valid=[]\n",
        "for i in range(len(X_valid)):\n",
        "  tr_valid.append(cv2.resize(X_valid[i][:112, 112:],(128,128)))\n",
        "tr_valid=np.array(tr_valid)\n",
        "\n",
        "tr_test=[]\n",
        "for i in range(len(X_test)):\n",
        "  tr_test.append(cv2.resize(X_test[i][:112, 112:],(128,128)))\n",
        "tr_test=np.array(tr_test)"
      ]
    },
    {
      "cell_type": "code",
      "execution_count": 30,
      "metadata": {
        "id": "oA9q65EqAK9R"
      },
      "outputs": [],
      "source": [
        "bl_train = []\n",
        "for i in range(len(X_train)):\n",
        "    bl_train.append(cv2.resize(X_train[i][112:, :112],(128,128)))\n",
        "bl_train = np.array(bl_train)\n",
        "\n",
        "bl_valid=[]\n",
        "for i in range(len(X_valid)):\n",
        "  bl_valid.append(cv2.resize(X_valid[i][112:, :112],(128,128)))\n",
        "bl_valid=np.array(bl_valid)\n",
        "\n",
        "bl_test=[]\n",
        "for i in range(len(X_test)):\n",
        "  bl_test.append(cv2.resize(X_test[i][112:, :112],(128,128)))\n",
        "bl_test=np.array(bl_test)"
      ]
    },
    {
      "cell_type": "code",
      "execution_count": 31,
      "metadata": {
        "id": "PiSdYAX3CDjr"
      },
      "outputs": [],
      "source": [
        "br_train = []\n",
        "for i in range(len(X_train)):\n",
        "    br_train.append(cv2.resize(X_train[i][112:, 112:],(128,128)))\n",
        "br_train = np.array(br_train)\n",
        "\n",
        "br_valid = []\n",
        "for i in range(len(X_valid)):\n",
        "    br_valid.append(cv2.resize(X_valid[i][112:, 112:],(128,128)))\n",
        "br_valid = np.array(br_valid)\n",
        "\n",
        "br_test = []\n",
        "for i in range(len(X_test)):\n",
        "    br_test.append(cv2.resize(X_test[i][112:, 112:],(128,128)))\n",
        "br_test = np.array(br_test)\n"
      ]
    },
    {
      "cell_type": "code",
      "execution_count": null,
      "metadata": {
        "id": "EsoT0d-hCHyk"
      },
      "outputs": [],
      "source": []
    },
    {
      "cell_type": "markdown",
      "metadata": {
        "id": "BaNmZUzKCIB1"
      },
      "source": [
        "# Features T-B/L-R + Combining Features\n"
      ]
    },
    {
      "cell_type": "code",
      "execution_count": 32,
      "metadata": {
        "colab": {
          "base_uri": "https://localhost:8080/"
        },
        "id": "CXJ8Tv19CK6J",
        "outputId": "c75494ba-abff-47de-e2e3-d80ded9875ae"
      },
      "outputs": [
        {
          "name": "stdout",
          "output_type": "stream",
          "text": [
            "Downloading data from https://storage.googleapis.com/tensorflow/keras-applications/mobilenet_v2/mobilenet_v2_weights_tf_dim_ordering_tf_kernels_1.0_128_no_top.h5\n",
            "9406464/9406464 [==============================] - 0s 0us/step\n"
          ]
        }
      ],
      "source": [
        "base_model = MobileNetV2(\n",
        "    weights='imagenet',\n",
        "    include_top=False,\n",
        "    input_shape=(128,128,3)\n",
        ")"
      ]
    },
    {
      "cell_type": "markdown",
      "metadata": {
        "id": "OczI4vydEq0d"
      },
      "source": [
        "## Intermediate Model"
      ]
    },
    {
      "cell_type": "code",
      "execution_count": 33,
      "metadata": {
        "id": "ARF5NFevCOT7"
      },
      "outputs": [],
      "source": [
        "NUM_CLASSES = 3\n",
        "input_layer = layers.Input(shape=(128, 128, 3))\n",
        "densenet_model = Sequential()\n",
        "densenet_model.add(input_layer)\n",
        "densenet_model.add(Conv2D(3, (3, 3), padding='same'))\n",
        "densenet_model.add(base_model)\n",
        "densenet_model.add(layers.Flatten(name='flatten'))\n",
        "# intermediate_features = densenet_model.layers[-1].output\n",
        "# attention_weights = layers.Dense(1, activation='softmax')(intermediate_features)\n",
        "# attention_weights = layers.Reshape((1, 1, -1))(attention_weights)\n",
        "# densenet_model.add(layers.Dense(10, activation='relu'))\n",
        "densenet_model.layers[0].trainable = False"
      ]
    },
    {
      "cell_type": "code",
      "execution_count": 34,
      "metadata": {
        "colab": {
          "base_uri": "https://localhost:8080/"
        },
        "id": "vnDy0gpTCb-8",
        "outputId": "e13de5ca-9af2-41d8-c5d0-b7291edaccdc"
      },
      "outputs": [
        {
          "name": "stdout",
          "output_type": "stream",
          "text": [
            "Model: \"sequential_3\"\n",
            "_________________________________________________________________\n",
            " Layer (type)                Output Shape              Param #   \n",
            "=================================================================\n",
            " conv2d_3 (Conv2D)           (None, 128, 128, 3)       84        \n",
            "                                                                 \n",
            " mobilenetv2_1.00_128 (Func  (None, 4, 4, 1280)        2257984   \n",
            " tional)                                                         \n",
            "                                                                 \n",
            " flatten (Flatten)           (None, 20480)             0         \n",
            "                                                                 \n",
            "=================================================================\n",
            "Total params: 2258068 (8.61 MB)\n",
            "Trainable params: 2223872 (8.48 MB)\n",
            "Non-trainable params: 34196 (133.58 KB)\n",
            "_________________________________________________________________\n"
          ]
        }
      ],
      "source": [
        "densenet_model.summary()"
      ]
    },
    {
      "cell_type": "markdown",
      "metadata": {
        "id": "A_IqnTSmF7DY"
      },
      "source": [
        "### For Finding Individual Feature of T-B/L-R"
      ]
    },
    {
      "cell_type": "code",
      "execution_count": null,
      "metadata": {
        "id": "b_VXVgrgGO1K"
      },
      "outputs": [],
      "source": [
        "# because rgb have 224X224x1 so we have to tweak model likewise"
      ]
    },
    {
      "cell_type": "code",
      "execution_count": 35,
      "metadata": {
        "colab": {
          "base_uri": "https://localhost:8080/"
        },
        "id": "pwfG_YFPCjmA",
        "outputId": "f7e2ae92-cb71-4429-b76b-0f5d760ec57b"
      },
      "outputs": [
        {
          "name": "stdout",
          "output_type": "stream",
          "text": [
            "28/28 [==============================] - 13s 428ms/step\n"
          ]
        }
      ],
      "source": [
        "from keras.models import Model\n",
        "intermediate_model = Model(inputs=densenet_model.input, outputs=densenet_model.get_layer('flatten').output)\n",
        "intermediate_output_tl = intermediate_model.predict(tl_train)\n",
        "# intermediate_output_tr = intermediate_model.predict(tr_train)\n",
        "# intermediate_output_bl = intermediate_model.predict(bl)"
      ]
    },
    {
      "cell_type": "code",
      "execution_count": 36,
      "metadata": {
        "colab": {
          "base_uri": "https://localhost:8080/"
        },
        "id": "MtcUDFcICn0z",
        "outputId": "c5b07813-369f-483f-8b12-5ef239304398"
      },
      "outputs": [
        {
          "data": {
            "text/plain": [
              "(877, 20480)"
            ]
          },
          "execution_count": 36,
          "metadata": {},
          "output_type": "execute_result"
        }
      ],
      "source": [
        "intermediate_output_tl.shape"
      ]
    },
    {
      "cell_type": "code",
      "execution_count": null,
      "metadata": {
        "id": "qH-PK-tqCn5P"
      },
      "outputs": [],
      "source": []
    },
    {
      "cell_type": "code",
      "execution_count": 37,
      "metadata": {
        "colab": {
          "base_uri": "https://localhost:8080/"
        },
        "id": "IhPF4mmuCn9I",
        "outputId": "ea331b8d-526e-4738-aef5-93d3fe20368f"
      },
      "outputs": [
        {
          "name": "stdout",
          "output_type": "stream",
          "text": [
            "28/28 [==============================] - 11s 390ms/step\n"
          ]
        }
      ],
      "source": [
        "intermediate_output_tr = intermediate_model.predict(tr_train)"
      ]
    },
    {
      "cell_type": "code",
      "execution_count": 38,
      "metadata": {
        "colab": {
          "base_uri": "https://localhost:8080/"
        },
        "id": "p2FSpdz1CoBf",
        "outputId": "4faf6fc0-6552-4090-8b65-eb7a7d0eb421"
      },
      "outputs": [
        {
          "data": {
            "text/plain": [
              "(877, 20480)"
            ]
          },
          "execution_count": 38,
          "metadata": {},
          "output_type": "execute_result"
        }
      ],
      "source": [
        "intermediate_output_tr.shape"
      ]
    },
    {
      "cell_type": "code",
      "execution_count": 39,
      "metadata": {
        "colab": {
          "base_uri": "https://localhost:8080/"
        },
        "id": "yIEgQUTOCoFM",
        "outputId": "e29c7f45-cc34-4000-a976-0d8cb0dd174f"
      },
      "outputs": [
        {
          "name": "stdout",
          "output_type": "stream",
          "text": [
            "28/28 [==============================] - 12s 429ms/step\n"
          ]
        }
      ],
      "source": [
        "\n",
        "intermediate_output_bl = intermediate_model.predict(bl_train)"
      ]
    },
    {
      "cell_type": "code",
      "execution_count": 40,
      "metadata": {
        "colab": {
          "base_uri": "https://localhost:8080/"
        },
        "id": "mRcnfqifCoI1",
        "outputId": "5c630381-cedd-46c2-a324-dd2a05014cc4"
      },
      "outputs": [
        {
          "data": {
            "text/plain": [
              "(877, 20480)"
            ]
          },
          "execution_count": 40,
          "metadata": {},
          "output_type": "execute_result"
        }
      ],
      "source": [
        "intermediate_output_bl.shape"
      ]
    },
    {
      "cell_type": "code",
      "execution_count": 41,
      "metadata": {
        "colab": {
          "base_uri": "https://localhost:8080/"
        },
        "id": "AtHfSXb9CoMO",
        "outputId": "68dee7f7-8193-4d87-ba90-777fcd7f3c2b"
      },
      "outputs": [
        {
          "name": "stdout",
          "output_type": "stream",
          "text": [
            "(None, 128, 128, 3)\n"
          ]
        }
      ],
      "source": [
        "print(intermediate_model.input_shape)"
      ]
    },
    {
      "cell_type": "code",
      "execution_count": 42,
      "metadata": {
        "colab": {
          "base_uri": "https://localhost:8080/"
        },
        "id": "QztGHDkyKRBj",
        "outputId": "2eabf95e-b7ce-4802-d865-c3dcd3319e6e"
      },
      "outputs": [
        {
          "name": "stdout",
          "output_type": "stream",
          "text": [
            "28/28 [==============================] - 12s 433ms/step\n"
          ]
        }
      ],
      "source": [
        "intermediate_output_br = intermediate_model.predict(br_train)"
      ]
    },
    {
      "cell_type": "code",
      "execution_count": 43,
      "metadata": {
        "colab": {
          "base_uri": "https://localhost:8080/"
        },
        "id": "CJEsTBlBKRFp",
        "outputId": "ef7a9191-be9e-4390-f6cc-46af41f66398"
      },
      "outputs": [
        {
          "data": {
            "text/plain": [
              "(877, 20480)"
            ]
          },
          "execution_count": 43,
          "metadata": {},
          "output_type": "execute_result"
        }
      ],
      "source": [
        "intermediate_output_br.shape"
      ]
    },
    {
      "cell_type": "code",
      "execution_count": 44,
      "metadata": {
        "colab": {
          "base_uri": "https://localhost:8080/"
        },
        "id": "yscbFIAfDqxT",
        "outputId": "493d652a-e6da-4a02-c9e6-0110a80ef686"
      },
      "outputs": [
        {
          "name": "stdout",
          "output_type": "stream",
          "text": [
            "2/2 [==============================] - 0s 124ms/step\n"
          ]
        }
      ],
      "source": [
        "intermediate_output_tl_valid = intermediate_model.predict(tl_valid)"
      ]
    },
    {
      "cell_type": "code",
      "execution_count": 45,
      "metadata": {
        "colab": {
          "base_uri": "https://localhost:8080/"
        },
        "id": "W0rNZRL2Dq2f",
        "outputId": "ba684dd8-555c-4e66-84de-f722f0decc8c"
      },
      "outputs": [
        {
          "name": "stdout",
          "output_type": "stream",
          "text": [
            "2/2 [==============================] - 1s 129ms/step\n"
          ]
        }
      ],
      "source": [
        "intermediate_output_tr_valid = intermediate_model.predict(tr_valid)"
      ]
    },
    {
      "cell_type": "code",
      "execution_count": 46,
      "metadata": {
        "colab": {
          "base_uri": "https://localhost:8080/"
        },
        "id": "cth5vtI9CoQK",
        "outputId": "73b1d018-04b2-4648-e0fa-cbbbcac07581"
      },
      "outputs": [
        {
          "name": "stdout",
          "output_type": "stream",
          "text": [
            "2/2 [==============================] - 0s 116ms/step\n"
          ]
        }
      ],
      "source": [
        "intermediate_output_bl_valid = intermediate_model.predict(bl_valid)"
      ]
    },
    {
      "cell_type": "code",
      "execution_count": 47,
      "metadata": {
        "colab": {
          "base_uri": "https://localhost:8080/"
        },
        "id": "t1UHIkYEKiQe",
        "outputId": "325f5a06-4b13-4d78-ea09-7efb7c579891"
      },
      "outputs": [
        {
          "name": "stdout",
          "output_type": "stream",
          "text": [
            "2/2 [==============================] - 0s 123ms/step\n"
          ]
        }
      ],
      "source": [
        "intermediate_output_br_valid = intermediate_model.predict(br_valid)"
      ]
    },
    {
      "cell_type": "code",
      "execution_count": 48,
      "metadata": {
        "colab": {
          "base_uri": "https://localhost:8080/"
        },
        "id": "orIS4Qe3D3WN",
        "outputId": "3311be08-8481-4664-e9a9-a4b372a5cc0a"
      },
      "outputs": [
        {
          "name": "stdout",
          "output_type": "stream",
          "text": [
            "6/6 [==============================] - 3s 531ms/step\n"
          ]
        }
      ],
      "source": [
        "intermediate_output_tl_test = intermediate_model.predict(tl_test)"
      ]
    },
    {
      "cell_type": "code",
      "execution_count": 49,
      "metadata": {
        "colab": {
          "base_uri": "https://localhost:8080/"
        },
        "id": "41lfWR-mD3ay",
        "outputId": "64365aba-a03a-4ea1-f4d4-31671bcc2351"
      },
      "outputs": [
        {
          "name": "stdout",
          "output_type": "stream",
          "text": [
            "6/6 [==============================] - 2s 407ms/step\n"
          ]
        }
      ],
      "source": [
        "intermediate_output_tr_test = intermediate_model.predict(bl_test)"
      ]
    },
    {
      "cell_type": "code",
      "execution_count": 50,
      "metadata": {
        "colab": {
          "base_uri": "https://localhost:8080/"
        },
        "id": "PZ6yVtjzDx3B",
        "outputId": "324eaca4-3a7b-4beb-df6d-3e7d76c4ba7a"
      },
      "outputs": [
        {
          "name": "stdout",
          "output_type": "stream",
          "text": [
            "6/6 [==============================] - 3s 560ms/step\n"
          ]
        }
      ],
      "source": [
        "intermediate_output_bl_test = intermediate_model.predict(bl_test)"
      ]
    },
    {
      "cell_type": "code",
      "execution_count": 51,
      "metadata": {
        "colab": {
          "base_uri": "https://localhost:8080/"
        },
        "id": "YrmJ0EPjKrrv",
        "outputId": "53d1fd7f-ced5-4786-e821-a3e3b3520441"
      },
      "outputs": [
        {
          "name": "stdout",
          "output_type": "stream",
          "text": [
            "6/6 [==============================] - 2s 289ms/step\n"
          ]
        }
      ],
      "source": [
        "intermediate_output_br_test= intermediate_model.predict(br_test)"
      ]
    },
    {
      "cell_type": "markdown",
      "metadata": {
        "id": "eQ-DJkVREy7A"
      },
      "source": [
        "## Intermediate Model for Actual Image"
      ]
    },
    {
      "cell_type": "code",
      "execution_count": 52,
      "metadata": {
        "id": "doVSH0F0E07E"
      },
      "outputs": [],
      "source": [
        "densenet_model_main= Sequential()\n",
        "densenet_model_main.add(base_model)\n",
        "densenet_model_main.add(layers.Flatten(name='flatten'))\n",
        "intermediate_features = densenet_model_main.layers[-1].output\n",
        "attention_weights = layers.Dense(1, activation='softmax')(intermediate_features)\n",
        "attention_weights = layers.Reshape((1, 1, -1))(attention_weights)\n",
        "densenet_model_main.add(layers.Dense(10, activation='relu'))\n",
        "densenet_model_main.layers[0].trainable = False"
      ]
    },
    {
      "cell_type": "code",
      "execution_count": null,
      "metadata": {
        "id": "9MvAooK1GlhB"
      },
      "outputs": [],
      "source": []
    },
    {
      "cell_type": "markdown",
      "metadata": {
        "id": "7Rr09yHYGlxW"
      },
      "source": [
        "### For Finding Individual Feature of whole"
      ]
    },
    {
      "cell_type": "code",
      "execution_count": null,
      "metadata": {
        "id": "K0L3DORZGwF-"
      },
      "outputs": [],
      "source": [
        "# because whole have 224X224x3 so we have to tweak model likewise"
      ]
    },
    {
      "cell_type": "code",
      "execution_count": 53,
      "metadata": {
        "id": "TzQDEx-hFT8f"
      },
      "outputs": [],
      "source": [
        "intermediate_model_2= Model(inputs=densenet_model_main.input, outputs=densenet_model_main.get_layer('flatten').output)\n"
      ]
    },
    {
      "cell_type": "code",
      "execution_count": 55,
      "metadata": {
        "colab": {
          "base_uri": "https://localhost:8080/",
          "height": 651
        },
        "id": "KSDx6_cTFT_1",
        "outputId": "fcf291e8-c2e7-49f7-948d-bbf0dbb43f86"
      },
      "outputs": [
        {
          "ename": "ValueError",
          "evalue": "in user code:\n\n    File \"/usr/local/lib/python3.10/dist-packages/keras/src/engine/training.py\", line 2440, in predict_function  *\n        return step_function(self, iterator)\n    File \"/usr/local/lib/python3.10/dist-packages/keras/src/engine/training.py\", line 2425, in step_function  **\n        outputs = model.distribute_strategy.run(run_step, args=(data,))\n    File \"/usr/local/lib/python3.10/dist-packages/keras/src/engine/training.py\", line 2413, in run_step  **\n        outputs = model.predict_step(data)\n    File \"/usr/local/lib/python3.10/dist-packages/keras/src/engine/training.py\", line 2381, in predict_step\n        return self(x, training=False)\n    File \"/usr/local/lib/python3.10/dist-packages/keras/src/utils/traceback_utils.py\", line 70, in error_handler\n        raise e.with_traceback(filtered_tb) from None\n    File \"/usr/local/lib/python3.10/dist-packages/keras/src/engine/input_spec.py\", line 298, in assert_input_compatibility\n        raise ValueError(\n\n    ValueError: Input 0 of layer \"model_2\" is incompatible with the layer: expected shape=(None, 128, 128, 3), found shape=(None, 224, 224, 3)\n",
          "output_type": "error",
          "traceback": [
            "\u001b[0;31m---------------------------------------------------------------------------\u001b[0m",
            "\u001b[0;31mValueError\u001b[0m                                Traceback (most recent call last)",
            "\u001b[0;32m<ipython-input-55-94ab5b59d7c8>\u001b[0m in \u001b[0;36m<cell line: 1>\u001b[0;34m()\u001b[0m\n\u001b[0;32m----> 1\u001b[0;31m \u001b[0mintermediate_output_main_train\u001b[0m \u001b[0;34m=\u001b[0m \u001b[0mintermediate_model_2\u001b[0m\u001b[0;34m.\u001b[0m\u001b[0mpredict\u001b[0m\u001b[0;34m(\u001b[0m\u001b[0mX_train\u001b[0m\u001b[0;34m)\u001b[0m\u001b[0;34m\u001b[0m\u001b[0;34m\u001b[0m\u001b[0m\n\u001b[0m",
            "\u001b[0;32m/usr/local/lib/python3.10/dist-packages/keras/src/utils/traceback_utils.py\u001b[0m in \u001b[0;36merror_handler\u001b[0;34m(*args, **kwargs)\u001b[0m\n\u001b[1;32m     68\u001b[0m             \u001b[0;31m# To get the full stack trace, call:\u001b[0m\u001b[0;34m\u001b[0m\u001b[0;34m\u001b[0m\u001b[0m\n\u001b[1;32m     69\u001b[0m             \u001b[0;31m# `tf.debugging.disable_traceback_filtering()`\u001b[0m\u001b[0;34m\u001b[0m\u001b[0;34m\u001b[0m\u001b[0m\n\u001b[0;32m---> 70\u001b[0;31m             \u001b[0;32mraise\u001b[0m \u001b[0me\u001b[0m\u001b[0;34m.\u001b[0m\u001b[0mwith_traceback\u001b[0m\u001b[0;34m(\u001b[0m\u001b[0mfiltered_tb\u001b[0m\u001b[0;34m)\u001b[0m \u001b[0;32mfrom\u001b[0m \u001b[0;32mNone\u001b[0m\u001b[0;34m\u001b[0m\u001b[0;34m\u001b[0m\u001b[0m\n\u001b[0m\u001b[1;32m     71\u001b[0m         \u001b[0;32mfinally\u001b[0m\u001b[0;34m:\u001b[0m\u001b[0;34m\u001b[0m\u001b[0;34m\u001b[0m\u001b[0m\n\u001b[1;32m     72\u001b[0m             \u001b[0;32mdel\u001b[0m \u001b[0mfiltered_tb\u001b[0m\u001b[0;34m\u001b[0m\u001b[0;34m\u001b[0m\u001b[0m\n",
            "\u001b[0;32m/usr/local/lib/python3.10/dist-packages/keras/src/engine/training.py\u001b[0m in \u001b[0;36mtf__predict_function\u001b[0;34m(iterator)\u001b[0m\n\u001b[1;32m     13\u001b[0m                 \u001b[0;32mtry\u001b[0m\u001b[0;34m:\u001b[0m\u001b[0;34m\u001b[0m\u001b[0;34m\u001b[0m\u001b[0m\n\u001b[1;32m     14\u001b[0m                     \u001b[0mdo_return\u001b[0m \u001b[0;34m=\u001b[0m \u001b[0;32mTrue\u001b[0m\u001b[0;34m\u001b[0m\u001b[0;34m\u001b[0m\u001b[0m\n\u001b[0;32m---> 15\u001b[0;31m                     \u001b[0mretval_\u001b[0m \u001b[0;34m=\u001b[0m \u001b[0mag__\u001b[0m\u001b[0;34m.\u001b[0m\u001b[0mconverted_call\u001b[0m\u001b[0;34m(\u001b[0m\u001b[0mag__\u001b[0m\u001b[0;34m.\u001b[0m\u001b[0mld\u001b[0m\u001b[0;34m(\u001b[0m\u001b[0mstep_function\u001b[0m\u001b[0;34m)\u001b[0m\u001b[0;34m,\u001b[0m \u001b[0;34m(\u001b[0m\u001b[0mag__\u001b[0m\u001b[0;34m.\u001b[0m\u001b[0mld\u001b[0m\u001b[0;34m(\u001b[0m\u001b[0mself\u001b[0m\u001b[0;34m)\u001b[0m\u001b[0;34m,\u001b[0m \u001b[0mag__\u001b[0m\u001b[0;34m.\u001b[0m\u001b[0mld\u001b[0m\u001b[0;34m(\u001b[0m\u001b[0miterator\u001b[0m\u001b[0;34m)\u001b[0m\u001b[0;34m)\u001b[0m\u001b[0;34m,\u001b[0m \u001b[0;32mNone\u001b[0m\u001b[0;34m,\u001b[0m \u001b[0mfscope\u001b[0m\u001b[0;34m)\u001b[0m\u001b[0;34m\u001b[0m\u001b[0;34m\u001b[0m\u001b[0m\n\u001b[0m\u001b[1;32m     16\u001b[0m                 \u001b[0;32mexcept\u001b[0m\u001b[0;34m:\u001b[0m\u001b[0;34m\u001b[0m\u001b[0;34m\u001b[0m\u001b[0m\n\u001b[1;32m     17\u001b[0m                     \u001b[0mdo_return\u001b[0m \u001b[0;34m=\u001b[0m \u001b[0;32mFalse\u001b[0m\u001b[0;34m\u001b[0m\u001b[0;34m\u001b[0m\u001b[0m\n",
            "\u001b[0;31mValueError\u001b[0m: in user code:\n\n    File \"/usr/local/lib/python3.10/dist-packages/keras/src/engine/training.py\", line 2440, in predict_function  *\n        return step_function(self, iterator)\n    File \"/usr/local/lib/python3.10/dist-packages/keras/src/engine/training.py\", line 2425, in step_function  **\n        outputs = model.distribute_strategy.run(run_step, args=(data,))\n    File \"/usr/local/lib/python3.10/dist-packages/keras/src/engine/training.py\", line 2413, in run_step  **\n        outputs = model.predict_step(data)\n    File \"/usr/local/lib/python3.10/dist-packages/keras/src/engine/training.py\", line 2381, in predict_step\n        return self(x, training=False)\n    File \"/usr/local/lib/python3.10/dist-packages/keras/src/utils/traceback_utils.py\", line 70, in error_handler\n        raise e.with_traceback(filtered_tb) from None\n    File \"/usr/local/lib/python3.10/dist-packages/keras/src/engine/input_spec.py\", line 298, in assert_input_compatibility\n        raise ValueError(\n\n    ValueError: Input 0 of layer \"model_2\" is incompatible with the layer: expected shape=(None, 128, 128, 3), found shape=(None, 224, 224, 3)\n"
          ]
        }
      ],
      "source": [
        "intermediate_output_main_train = intermediate_model_2.predict(X_train)"
      ]
    },
    {
      "cell_type": "code",
      "execution_count": null,
      "metadata": {
        "id": "E_TSYcZYG_Em"
      },
      "outputs": [],
      "source": [
        "intermediate_output_main_valid = intermediate_model_2.predict(X_valid)"
      ]
    },
    {
      "cell_type": "code",
      "execution_count": 56,
      "metadata": {
        "colab": {
          "base_uri": "https://localhost:8080/",
          "height": 651
        },
        "id": "2pogCEq_HFJd",
        "outputId": "283f03d2-7a08-461d-815b-6154b12a73c9"
      },
      "outputs": [
        {
          "ename": "ValueError",
          "evalue": "in user code:\n\n    File \"/usr/local/lib/python3.10/dist-packages/keras/src/engine/training.py\", line 2440, in predict_function  *\n        return step_function(self, iterator)\n    File \"/usr/local/lib/python3.10/dist-packages/keras/src/engine/training.py\", line 2425, in step_function  **\n        outputs = model.distribute_strategy.run(run_step, args=(data,))\n    File \"/usr/local/lib/python3.10/dist-packages/keras/src/engine/training.py\", line 2413, in run_step  **\n        outputs = model.predict_step(data)\n    File \"/usr/local/lib/python3.10/dist-packages/keras/src/engine/training.py\", line 2381, in predict_step\n        return self(x, training=False)\n    File \"/usr/local/lib/python3.10/dist-packages/keras/src/utils/traceback_utils.py\", line 70, in error_handler\n        raise e.with_traceback(filtered_tb) from None\n    File \"/usr/local/lib/python3.10/dist-packages/keras/src/engine/input_spec.py\", line 298, in assert_input_compatibility\n        raise ValueError(\n\n    ValueError: Input 0 of layer \"model_2\" is incompatible with the layer: expected shape=(None, 128, 128, 3), found shape=(None, 224, 224, 3)\n",
          "output_type": "error",
          "traceback": [
            "\u001b[0;31m---------------------------------------------------------------------------\u001b[0m",
            "\u001b[0;31mValueError\u001b[0m                                Traceback (most recent call last)",
            "\u001b[0;32m<ipython-input-56-df40ff0fa3b5>\u001b[0m in \u001b[0;36m<cell line: 1>\u001b[0;34m()\u001b[0m\n\u001b[0;32m----> 1\u001b[0;31m \u001b[0mintermediate_output_main_test\u001b[0m \u001b[0;34m=\u001b[0m \u001b[0mintermediate_model_2\u001b[0m\u001b[0;34m.\u001b[0m\u001b[0mpredict\u001b[0m\u001b[0;34m(\u001b[0m\u001b[0mX_test\u001b[0m\u001b[0;34m)\u001b[0m\u001b[0;34m\u001b[0m\u001b[0;34m\u001b[0m\u001b[0m\n\u001b[0m",
            "\u001b[0;32m/usr/local/lib/python3.10/dist-packages/keras/src/utils/traceback_utils.py\u001b[0m in \u001b[0;36merror_handler\u001b[0;34m(*args, **kwargs)\u001b[0m\n\u001b[1;32m     68\u001b[0m             \u001b[0;31m# To get the full stack trace, call:\u001b[0m\u001b[0;34m\u001b[0m\u001b[0;34m\u001b[0m\u001b[0m\n\u001b[1;32m     69\u001b[0m             \u001b[0;31m# `tf.debugging.disable_traceback_filtering()`\u001b[0m\u001b[0;34m\u001b[0m\u001b[0;34m\u001b[0m\u001b[0m\n\u001b[0;32m---> 70\u001b[0;31m             \u001b[0;32mraise\u001b[0m \u001b[0me\u001b[0m\u001b[0;34m.\u001b[0m\u001b[0mwith_traceback\u001b[0m\u001b[0;34m(\u001b[0m\u001b[0mfiltered_tb\u001b[0m\u001b[0;34m)\u001b[0m \u001b[0;32mfrom\u001b[0m \u001b[0;32mNone\u001b[0m\u001b[0;34m\u001b[0m\u001b[0;34m\u001b[0m\u001b[0m\n\u001b[0m\u001b[1;32m     71\u001b[0m         \u001b[0;32mfinally\u001b[0m\u001b[0;34m:\u001b[0m\u001b[0;34m\u001b[0m\u001b[0;34m\u001b[0m\u001b[0m\n\u001b[1;32m     72\u001b[0m             \u001b[0;32mdel\u001b[0m \u001b[0mfiltered_tb\u001b[0m\u001b[0;34m\u001b[0m\u001b[0;34m\u001b[0m\u001b[0m\n",
            "\u001b[0;32m/usr/local/lib/python3.10/dist-packages/keras/src/engine/training.py\u001b[0m in \u001b[0;36mtf__predict_function\u001b[0;34m(iterator)\u001b[0m\n\u001b[1;32m     13\u001b[0m                 \u001b[0;32mtry\u001b[0m\u001b[0;34m:\u001b[0m\u001b[0;34m\u001b[0m\u001b[0;34m\u001b[0m\u001b[0m\n\u001b[1;32m     14\u001b[0m                     \u001b[0mdo_return\u001b[0m \u001b[0;34m=\u001b[0m \u001b[0;32mTrue\u001b[0m\u001b[0;34m\u001b[0m\u001b[0;34m\u001b[0m\u001b[0m\n\u001b[0;32m---> 15\u001b[0;31m                     \u001b[0mretval_\u001b[0m \u001b[0;34m=\u001b[0m \u001b[0mag__\u001b[0m\u001b[0;34m.\u001b[0m\u001b[0mconverted_call\u001b[0m\u001b[0;34m(\u001b[0m\u001b[0mag__\u001b[0m\u001b[0;34m.\u001b[0m\u001b[0mld\u001b[0m\u001b[0;34m(\u001b[0m\u001b[0mstep_function\u001b[0m\u001b[0;34m)\u001b[0m\u001b[0;34m,\u001b[0m \u001b[0;34m(\u001b[0m\u001b[0mag__\u001b[0m\u001b[0;34m.\u001b[0m\u001b[0mld\u001b[0m\u001b[0;34m(\u001b[0m\u001b[0mself\u001b[0m\u001b[0;34m)\u001b[0m\u001b[0;34m,\u001b[0m \u001b[0mag__\u001b[0m\u001b[0;34m.\u001b[0m\u001b[0mld\u001b[0m\u001b[0;34m(\u001b[0m\u001b[0miterator\u001b[0m\u001b[0;34m)\u001b[0m\u001b[0;34m)\u001b[0m\u001b[0;34m,\u001b[0m \u001b[0;32mNone\u001b[0m\u001b[0;34m,\u001b[0m \u001b[0mfscope\u001b[0m\u001b[0;34m)\u001b[0m\u001b[0;34m\u001b[0m\u001b[0;34m\u001b[0m\u001b[0m\n\u001b[0m\u001b[1;32m     16\u001b[0m                 \u001b[0;32mexcept\u001b[0m\u001b[0;34m:\u001b[0m\u001b[0;34m\u001b[0m\u001b[0;34m\u001b[0m\u001b[0m\n\u001b[1;32m     17\u001b[0m                     \u001b[0mdo_return\u001b[0m \u001b[0;34m=\u001b[0m \u001b[0;32mFalse\u001b[0m\u001b[0;34m\u001b[0m\u001b[0;34m\u001b[0m\u001b[0m\n",
            "\u001b[0;31mValueError\u001b[0m: in user code:\n\n    File \"/usr/local/lib/python3.10/dist-packages/keras/src/engine/training.py\", line 2440, in predict_function  *\n        return step_function(self, iterator)\n    File \"/usr/local/lib/python3.10/dist-packages/keras/src/engine/training.py\", line 2425, in step_function  **\n        outputs = model.distribute_strategy.run(run_step, args=(data,))\n    File \"/usr/local/lib/python3.10/dist-packages/keras/src/engine/training.py\", line 2413, in run_step  **\n        outputs = model.predict_step(data)\n    File \"/usr/local/lib/python3.10/dist-packages/keras/src/engine/training.py\", line 2381, in predict_step\n        return self(x, training=False)\n    File \"/usr/local/lib/python3.10/dist-packages/keras/src/utils/traceback_utils.py\", line 70, in error_handler\n        raise e.with_traceback(filtered_tb) from None\n    File \"/usr/local/lib/python3.10/dist-packages/keras/src/engine/input_spec.py\", line 298, in assert_input_compatibility\n        raise ValueError(\n\n    ValueError: Input 0 of layer \"model_2\" is incompatible with the layer: expected shape=(None, 128, 128, 3), found shape=(None, 224, 224, 3)\n"
          ]
        }
      ],
      "source": [
        "intermediate_output_main_test = intermediate_model_2.predict(X_test)"
      ]
    },
    {
      "cell_type": "code",
      "execution_count": null,
      "metadata": {
        "id": "7DXcLjNUHJHu"
      },
      "outputs": [],
      "source": [
        "intermediate_output_main_train.shape"
      ]
    },
    {
      "cell_type": "code",
      "execution_count": null,
      "metadata": {
        "id": "9w69U-mVHaMH"
      },
      "outputs": [],
      "source": [
        "intermediate_output_main_valid.shape"
      ]
    },
    {
      "cell_type": "code",
      "execution_count": null,
      "metadata": {
        "id": "KHOJ28XLHdqI"
      },
      "outputs": [],
      "source": [
        "intermediate_output_main_test.shape"
      ]
    },
    {
      "cell_type": "code",
      "execution_count": null,
      "metadata": {
        "id": "9CFhhgmgHfKG"
      },
      "outputs": [],
      "source": []
    },
    {
      "cell_type": "markdown",
      "metadata": {
        "id": "KBhgXXenLtoc"
      },
      "source": [
        "## Combined Features for Fitting"
      ]
    },
    {
      "cell_type": "code",
      "execution_count": null,
      "metadata": {
        "id": "OMooS8IbHq1Z"
      },
      "outputs": [],
      "source": [
        "combined_features = []\n",
        "for i in range(len(intermediate_output_bl)):\n",
        "  combined_features.append(np.concatenate((intermediate_output_bl,intermediate_output_br,intermediate_output_tl, intermediate_output_tr), axis=0))\n",
        "combined_features = np.array(combined_features)\n",
        "combined_features.shape"
      ]
    },
    {
      "cell_type": "code",
      "execution_count": null,
      "metadata": {
        "id": "uPHxe7jFHq5K"
      },
      "outputs": [],
      "source": [
        "combined_features_valid = []\n",
        "for i in range(len(intermediate_output_bl_valid)):\n",
        "  combined_features_valid.append(np.concatenate((intermediate_output_bl_valid,intermediate_output_br_valid,intermediate_output_tl_valid, intermediate_output_tr_valid), axis=0))\n",
        "combined_features_valid = np.array(combined_features_valid)\n",
        "combined_features_valid.shape"
      ]
    },
    {
      "cell_type": "code",
      "execution_count": null,
      "metadata": {
        "id": "ZILGTps0Hq8T"
      },
      "outputs": [],
      "source": [
        "combined_features_test = []\n",
        "for i in range(len(intermediate_output_bl_test)):\n",
        "    combined_features_test.append(np.concatenate((intermediate_output_bl_test, intermediate_output_br_test, intermediate_output_tl_test, intermediate_output_tr_test), axis=0))\n",
        "combined_features_test = np.array(combined_features_test)\n",
        "combined_features_test.shape\n"
      ]
    }
  ],
  "metadata": {
    "colab": {
      "provenance": []
    },
    "kernelspec": {
      "display_name": "Python 3",
      "name": "python3"
    },
    "language_info": {
      "name": "python"
    }
  },
  "nbformat": 4,
  "nbformat_minor": 0
}
