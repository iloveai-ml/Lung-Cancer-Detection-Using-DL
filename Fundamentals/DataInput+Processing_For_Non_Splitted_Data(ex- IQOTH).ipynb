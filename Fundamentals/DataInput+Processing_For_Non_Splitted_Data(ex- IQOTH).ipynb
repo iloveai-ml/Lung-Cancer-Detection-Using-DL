{
 "cells": [
  {
   "cell_type": "markdown",
   "metadata": {
    "id": "tfjFrUu5QmBX"
   },
   "source": [
    "# Data Input+ PRocessing"
   ]
  },
  {
   "cell_type": "code",
   "execution_count": null,
   "metadata": {
    "id": "vTeMAqMkVIbh"
   },
   "outputs": [],
   "source": [
    "import tensorflow as tf\n",
    "import numpy as np\n",
    "import cv2\n",
    "import os\n",
    "import numpy as np\n",
    "import pandas as pd\n",
    "import imageio\n",
    "import random\n",
    "import matplotlib.pyplot as plt\n",
    "import keras\n",
    "import tensorflow.keras as K\n",
    "import tensorflow.keras.backend as Kback\n",
    "\n",
    "from keras import layers\n",
    "from keras.layers import Input\n",
    "from keras.layers import Conv2D\n",
    "from keras.layers import MaxPooling2D\n",
    "from keras.layers import AveragePooling2D\n",
    "from keras.layers import Dropout\n",
    "from keras.layers import Conv2DTranspose\n",
    "from keras.layers import concatenate\n",
    "from keras.layers import BatchNormalization\n",
    "from keras.preprocessing.image import ImageDataGenerator\n",
    "from keras.models import Sequential, Model\n",
    "from keras.layers import Dense, Dropout, Activation, Flatten\n",
    "from keras.callbacks import EarlyStopping\n",
    "from keras.applications.resnet import ResNet50\n",
    "from keras.applications import vgg16\n",
    "from keras.applications import inception_v3\n",
    "from keras.src.applications.vgg16 import VGG16\n",
    "from keras.applications.vgg19 import VGG19\n",
    "from keras.applications.mobilenet_v2 import MobileNetV2\n",
    "from keras.applications import DenseNet121, NASNetMobile, EfficientNetB0, Xception\n",
    "from keras.layers import GlobalAveragePooling2D\n",
    "from keras.applications.densenet import DenseNet121\n",
    "\n",
    "from sklearn.metrics import classification_report\n",
    "from sklearn.metrics import confusion_matrix, ConfusionMatrixDisplay\n",
    "from sklearn.model_selection import train_test_split\n",
    "from sklearn.utils import shuffle\n",
    "from sklearn.utils.class_weight import compute_class_weight\n",
    "\n",
    "from collections import Counter\n",
    "from sklearn.metrics import RocCurveDisplay\n",
    "from sklearn.metrics import roc_auc_score"
   ]
  },
  {
   "cell_type": "code",
   "execution_count": null,
   "metadata": {
    "colab": {
     "base_uri": "https://localhost:8080/"
    },
    "id": "rC2s4RPPVykq",
    "outputId": "d29a17a0-9544-4720-ebea-db3deb216ce4"
   },
   "outputs": [
    {
     "name": "stdout",
     "output_type": "stream",
     "text": [
      "Mounted at /content/drive\n",
      "Hello Google Drive!"
     ]
    }
   ],
   "source": [
    "\n",
    "from google.colab import drive\n",
    "drive.mount('/content/drive')\n",
    "with open('/content/drive/My Drive/foo.txt', 'w') as f:\n",
    "  f.write('Hello Google Drive!')\n",
    "!cat /content/drive/My\\ Drive/foo.txt"
   ]
  },
  {
   "cell_type": "code",
   "execution_count": null,
   "metadata": {
    "id": "3-qJw7otX7Nv"
   },
   "outputs": [],
   "source": [
    "dataset=\"/content/drive/My Drive/LUNGCANCER/IQ-OTH/The IQ-OTHNCCD lung cancer dataset\""
   ]
  },
  {
   "cell_type": "code",
   "execution_count": null,
   "metadata": {
    "colab": {
     "base_uri": "https://localhost:8080/"
    },
    "id": "U-zolA0bYsCS",
    "outputId": "89ea7963-5225-4496-bf8a-cc4f82635558"
   },
   "outputs": [
    {
     "name": "stdout",
     "output_type": "stream",
     "text": [
      "Folders in the dataset:\n",
      "Normal cases\n",
      "Malignant cases\n",
      "Bengin cases\n"
     ]
    }
   ],
   "source": [
    "import os\n",
    "\n",
    "dataset_folder_path = \"/content/drive/My Drive/LUNGCANCER/IQ-OTH/The IQ-OTHNCCD lung cancer dataset\"\n",
    "folder_contents = os.listdir(dataset_folder_path)\n",
    "\n",
    "# Filter out only the directories (folders)\n",
    "folders = [item for item in folder_contents if os.path.isdir(os.path.join(dataset_folder_path, item))]\n",
    "\n",
    "# Print the list of folders\n",
    "print(\"Folders in the dataset:\")\n",
    "for folder in folders:\n",
    "    print(folder)\n"
   ]
  },
  {
   "cell_type": "code",
   "execution_count": null,
   "metadata": {
    "colab": {
     "base_uri": "https://localhost:8080/"
    },
    "id": "rt2MHtvjf_ok",
    "outputId": "41e41235-fda3-4500-8679-1dfc3107950c"
   },
   "outputs": [
    {
     "name": "stdout",
     "output_type": "stream",
     "text": [
      "Training samples: 767, Validation samples: 165, Testing samples: 165\n"
     ]
    }
   ],
   "source": [
    "import os\n",
    "import cv2\n",
    "import numpy as np\n",
    "from sklearn.model_selection import train_test_split\n",
    "\n",
    "# Define the base path to your dataset\n",
    "base_path = '/content/drive/My Drive/LUNGCANCER/IQ-OTH/The IQ-OTHNCCD lung cancer dataset'\n",
    "\n",
    "# List of class names (A, B, C)\n",
    "class_names =  [\"Normal cases\", \"Malignant cases\", \"Bengin cases\"]\n",
    "\n",
    "# Initialize empty lists for images and labels\n",
    "all_images = []\n",
    "all_labels = []\n",
    "\n",
    "# Load images and assign labels\n",
    "for label, class_name in enumerate(class_names):\n",
    "    class_path = os.path.join(base_path, class_name)\n",
    "    image_files = os.listdir(class_path)\n",
    "\n",
    "    for image_file in image_files:\n",
    "        image_path = os.path.join(class_path, image_file)\n",
    "        img = cv2.imread(image_path, cv2.IMREAD_COLOR)  # Read as RGB\n",
    "\n",
    "\n",
    "        # img = cv2.imread(image_path, cv2.IMREAD_GRAYSCALE)  # Read as grayscale\n",
    "        img = cv2.resize(img, (224, 224))  # Resize to desired dimensions\n",
    "        img = img / 255.0  # Normalize pixel values (assuming 8-bit images)\n",
    "        all_images.append(img)\n",
    "        all_labels.append(label)\n",
    "\n",
    "# Convert lists to numpy arrays\n",
    "X = np.array(all_images)\n",
    "y = np.array(all_labels)\n",
    "\n",
    "# Split into training, testing, and validation sets\n",
    "X_train, X_temp, y_train, y_temp = train_test_split(X, y, test_size=0.3, random_state=42)\n",
    "X_valid, X_test, y_valid, y_test = train_test_split(X_temp, y_temp, test_size=0.5, random_state=42)\n",
    "\n",
    "print(f\"Training samples: {len(X_train)}, Validation samples: {len(X_valid)}, Testing samples: {len(X_test)}\")\n"
   ]
  },
  {
   "cell_type": "code",
   "execution_count": null,
   "metadata": {
    "colab": {
     "base_uri": "https://localhost:8080/"
    },
    "id": "cEwcMvWeuvDm",
    "outputId": "c31b0c95-2193-457c-c21c-d853a110851f"
   },
   "outputs": [
    {
     "name": "stdout",
     "output_type": "stream",
     "text": [
      "Downloading data from https://storage.googleapis.com/tensorflow/keras-applications/vgg16/vgg16_weights_tf_dim_ordering_tf_kernels_notop.h5\n",
      "58889256/58889256 [==============================] - 0s 0us/step\n",
      "Model: \"sequential\"\n",
      "_________________________________________________________________\n",
      " Layer (type)                Output Shape              Param #   \n",
      "=================================================================\n",
      " vgg16 (Functional)          (None, 7, 7, 512)         14714688  \n",
      "                                                                 \n",
      " flatten (Flatten)           (None, 25088)             0         \n",
      "                                                                 \n",
      " dense (Dense)               (None, 256)               6422784   \n",
      "                                                                 \n",
      " dense_1 (Dense)             (None, 128)               32896     \n",
      "                                                                 \n",
      " dense_2 (Dense)             (None, 64)                8256      \n",
      "                                                                 \n",
      " dense_3 (Dense)             (None, 3)                 195       \n",
      "                                                                 \n",
      "=================================================================\n",
      "Total params: 21178819 (80.79 MB)\n",
      "Trainable params: 6464131 (24.66 MB)\n",
      "Non-trainable params: 14714688 (56.13 MB)\n",
      "_________________________________________________________________\n",
      "Epoch 1/20\n",
      "24/24 [==============================] - 625s 26s/step - loss: 1.1814 - accuracy: 0.6362 - val_loss: 0.4373 - val_accuracy: 0.8424\n",
      "Epoch 2/20\n",
      "24/24 [==============================] - 655s 28s/step - loss: 0.3549 - accuracy: 0.8527 - val_loss: 0.2333 - val_accuracy: 0.9152\n",
      "Epoch 3/20\n",
      "24/24 [==============================] - 661s 28s/step - loss: 0.1552 - accuracy: 0.9465 - val_loss: 0.1538 - val_accuracy: 0.9455\n",
      "Epoch 4/20\n",
      "24/24 [==============================] - 656s 28s/step - loss: 0.0988 - accuracy: 0.9609 - val_loss: 0.1436 - val_accuracy: 0.9636\n",
      "Epoch 5/20\n",
      "24/24 [==============================] - 650s 27s/step - loss: 0.0586 - accuracy: 0.9804 - val_loss: 0.0933 - val_accuracy: 0.9697\n",
      "Epoch 6/20\n",
      "24/24 [==============================] - 649s 27s/step - loss: 0.0333 - accuracy: 0.9935 - val_loss: 0.0608 - val_accuracy: 0.9758\n",
      "Epoch 7/20\n",
      "24/24 [==============================] - 620s 26s/step - loss: 0.0196 - accuracy: 0.9961 - val_loss: 0.0549 - val_accuracy: 0.9818\n",
      "Epoch 8/20\n",
      "24/24 [==============================] - 617s 26s/step - loss: 0.0121 - accuracy: 1.0000 - val_loss: 0.0521 - val_accuracy: 0.9818\n",
      "Epoch 9/20\n",
      "24/24 [==============================] - 650s 27s/step - loss: 0.0130 - accuracy: 0.9974 - val_loss: 0.0449 - val_accuracy: 0.9818\n",
      "Epoch 10/20\n",
      "24/24 [==============================] - 659s 28s/step - loss: 0.0134 - accuracy: 0.9935 - val_loss: 0.0465 - val_accuracy: 0.9818\n",
      "Epoch 11/20\n",
      "24/24 [==============================] - 659s 28s/step - loss: 0.0171 - accuracy: 0.9961 - val_loss: 0.0833 - val_accuracy: 0.9697\n",
      "Epoch 12/20\n",
      "24/24 [==============================] - 654s 28s/step - loss: 0.0139 - accuracy: 0.9961 - val_loss: 0.0388 - val_accuracy: 0.9879\n",
      "Epoch 13/20\n",
      "24/24 [==============================] - 647s 27s/step - loss: 0.0097 - accuracy: 0.9987 - val_loss: 0.0915 - val_accuracy: 0.9697\n",
      "Epoch 14/20\n",
      "24/24 [==============================] - 654s 27s/step - loss: 0.0073 - accuracy: 0.9974 - val_loss: 0.0831 - val_accuracy: 0.9758\n",
      "Epoch 15/20\n",
      "24/24 [==============================] - 650s 27s/step - loss: 0.0093 - accuracy: 0.9974 - val_loss: 0.0465 - val_accuracy: 0.9818\n",
      "Epoch 16/20\n",
      "24/24 [==============================] - 653s 28s/step - loss: 0.0034 - accuracy: 0.9987 - val_loss: 0.0757 - val_accuracy: 0.9697\n",
      "Epoch 17/20\n",
      "24/24 [==============================] - 652s 27s/step - loss: 0.0017 - accuracy: 1.0000 - val_loss: 0.0415 - val_accuracy: 0.9697\n",
      "Epoch 18/20\n",
      "24/24 [==============================] - 620s 26s/step - loss: 0.0012 - accuracy: 1.0000 - val_loss: 0.0422 - val_accuracy: 0.9818\n",
      "Epoch 19/20\n",
      "24/24 [==============================] - 649s 27s/step - loss: 0.3356 - accuracy: 0.9179 - val_loss: 0.3556 - val_accuracy: 0.8485\n",
      "Epoch 20/20\n",
      "24/24 [==============================] - 649s 27s/step - loss: 0.0930 - accuracy: 0.9661 - val_loss: 0.0868 - val_accuracy: 0.9576\n"
     ]
    }
   ],
   "source": [
    "base_model = VGG16(\n",
    "    weights='imagenet',\n",
    "    include_top=False,\n",
    "    input_shape=(224,224,3)\n",
    ")\n",
    "\n",
    "# We define the number of classes in the classification problem.\n",
    "NUM_CLASSES = 3\n",
    "\n",
    "# First, a sequential model is created, which will be used to build the VGG model.\n",
    "vgg_model = Sequential()\n",
    "\n",
    "# Se agrega una capa al modelo. base_model el modelo anteriormente preentrenado.\n",
    "vgg_model.add(base_model)\n",
    "\n",
    "# A flattening layer (Flatten) is added. This layer converts the output from the\n",
    "# previous layer (which is likely a three-dimensional tensor) into a one-dimensional vector.\n",
    "vgg_model.add(layers.Flatten())\n",
    "\n",
    "\n",
    "# vgg_model.add(layers.Dropout(0.25))\n",
    "vgg_model.add(layers.Dense(256, activation='relu'))\n",
    "vgg_model.add(layers.Dense(128, activation='relu'))\n",
    "vgg_model.add(layers.Dense(64, activation='relu'))\n",
    "# A dense layer is added with NUM_CLASSES neurons and a sigmoid activation function.\n",
    "# This layer produces the final output of the model.\n",
    "vgg_model.add(layers.Dense(NUM_CLASSES, activation='softmax'))\n",
    "\n",
    "# The first layer of the model (base_model) is frozen, so the weights of this layer\n",
    "# will not be updated during training.\n",
    "vgg_model.layers[0].trainable = False\n",
    "\n",
    "\n",
    "\n",
    "\n",
    "\n",
    "vgg_model.summary()\n",
    "\n",
    "optimizer=keras.optimizers.Adam(learning_rate=0.001)\n",
    "losses=keras.losses.SparseCategoricalCrossentropy()\n",
    "metrics=['accuracy']\n",
    "vgg_model.compile(optimizer=optimizer,loss=losses,metrics=metrics)\n",
    "\n",
    "epochs=10\n",
    "batch_size=32\n",
    "history= vgg_model.fit(X_train,y_train, epochs=20, batch_size=32, validation_data=(X_valid, y_valid))\n",
    "\n",
    "\n"
   ]
  },
  {
   "cell_type": "code",
   "execution_count": null,
   "metadata": {
    "colab": {
     "base_uri": "https://localhost:8080/"
    },
    "id": "FBCadp9ZEzg8",
    "outputId": "06d86be4-289a-4938-aed9-f16ff8ab291a"
   },
   "outputs": [
    {
     "name": "stdout",
     "output_type": "stream",
     "text": [
      "6/6 [==============================] - 160s 23s/step - loss: 0.1147 - accuracy: 0.9697\n",
      "Test Loss: 0.114664226770401\n",
      "Test Accuracy: 0.9696969985961914\n"
     ]
    }
   ],
   "source": [
    "test_loss, test_accuracy = vgg_model.evaluate(X_test,y_test)\n",
    "print('Test Loss:', test_loss)\n",
    "print('Test Accuracy:', test_accuracy)"
   ]
  },
  {
   "cell_type": "code",
   "execution_count": null,
   "metadata": {
    "colab": {
     "base_uri": "https://localhost:8080/"
    },
    "id": "OqLxrmlJuvF3",
    "outputId": "3701dca5-ec47-444d-fbdc-fdf2305de6b4"
   },
   "outputs": [
    {
     "name": "stdout",
     "output_type": "stream",
     "text": [
      "6/6 [==============================] - 111s 18s/step\n",
      "              precision    recall  f1-score   support\n",
      "\n",
      "           0       0.93      1.00      0.96        65\n",
      "           1       1.00      0.98      0.99        85\n",
      "           2       1.00      0.80      0.89        15\n",
      "\n",
      "    accuracy                           0.97       165\n",
      "   macro avg       0.98      0.93      0.95       165\n",
      "weighted avg       0.97      0.97      0.97       165\n",
      "\n",
      "[[65  0  0]\n",
      " [ 2 83  0]\n",
      " [ 3  0 12]]\n"
     ]
    }
   ],
   "source": [
    "y_pred = vgg_model.predict(X_test, verbose=1)\n",
    "y_pred_2 = np.argmax(y_pred, axis=1)\n",
    "\n",
    "print(classification_report(y_test, y_pred_2))\n",
    "print(confusion_matrix(y_true=y_test, y_pred=y_pred_2))"
   ]
  },
  {
   "cell_type": "code",
   "execution_count": null,
   "metadata": {
    "colab": {
     "base_uri": "https://localhost:8080/",
     "height": 106
    },
    "id": "5VfU1CMJuvHt",
    "outputId": "1c5a4039-c9be-4b75-96d2-b46721fe0716"
   },
   "outputs": [
    {
     "ename": "SyntaxError",
     "evalue": "invalid syntax. Perhaps you forgot a comma? (<ipython-input-11-928a3205e244>, line 1)",
     "output_type": "error",
     "traceback": [
      "\u001b[0;36m  File \u001b[0;32m\"<ipython-input-11-928a3205e244>\"\u001b[0;36m, line \u001b[0;32m1\u001b[0m\n\u001b[0;31m    cm = confusion_matrix(y_true=y_test y_pred=y_pred_2)\u001b[0m\n\u001b[0m                                 ^\u001b[0m\n\u001b[0;31mSyntaxError\u001b[0m\u001b[0;31m:\u001b[0m invalid syntax. Perhaps you forgot a comma?\n"
     ]
    }
   ],
   "source": [
    "cm = confusion_matrix(y_true=y_test y_pred=y_pred_2)\n",
    "target_names = [\"Benign\", \"Malignant\", \"Normal\"]\n",
    "disp = ConfusionMatrixDisplay(confusion_matrix=cm, display_labels=target_names)\n",
    "disp.plot(cmap='Blues')\n",
    "plt.xlabel('Predicted label')\n",
    "plt.ylabel('True label')\n",
    "plt.title('Confusion Matrix')\n",
    "plt.show()"
   ]
  },
  {
   "cell_type": "code",
   "execution_count": null,
   "metadata": {
    "id": "tXrg13AauvVc"
   },
   "outputs": [],
   "source": []
  },
  {
   "cell_type": "code",
   "execution_count": null,
   "metadata": {
    "id": "Q7xolC3TuvXn"
   },
   "outputs": [],
   "source": [
    "import os\n",
    "import cv2\n",
    "import numpy as np\n",
    "from sklearn.model_selection import train_test_split\n",
    "\n",
    "# Define the base path to your dataset\n",
    "base_path = '/content/drive/My Drive/LUNGCANCER/IQ-OTH/The IQ-OTHNCCD lung cancer dataset'\n",
    "\n",
    "# List of class names (A, B, C)\n",
    "class_names =  [\"Normal cases\", \"Malignant cases\", \"Bengin cases\"]\n",
    "\n",
    "# Initialize empty lists for images and labels\n",
    "all_images = []\n",
    "all_labels = []\n",
    "\n",
    "# Load images and assign labels\n",
    "for label, class_name in enumerate(class_names):\n",
    "    class_path = os.path.join(base_path, class_name)\n",
    "    image_files = os.listdir(class_path)\n",
    "\n",
    "    for image_file in image_files:\n",
    "        image_path = os.path.join(class_path, image_file)\n",
    "        img = cv2.imread(image_path, cv2.IMREAD_COLOR)  # Read as RGB\n",
    "\n",
    "\n",
    "        # img = cv2.imread(image_path, cv2.IMREAD_GRAYSCALE)  # Read as grayscale\n",
    "        img = cv2.resize(img, (224, 224))  # Resize to desired dimensions\n",
    "        img = img / 255.0  # Normalize pixel values (assuming 8-bit images)\n",
    "        all_images.append(img)\n",
    "        all_labels.append(label)\n",
    "\n",
    "\n"
   ]
  },
  {
   "cell_type": "code",
   "execution_count": null,
   "metadata": {
    "id": "YGR2gK0yxBM7"
   },
   "outputs": [],
   "source": [
    "all_images, all_labels = shuffle(all_images, all_labels, random_state=42)\n"
   ]
  },
  {
   "cell_type": "code",
   "execution_count": null,
   "metadata": {
    "colab": {
     "base_uri": "https://localhost:8080/"
    },
    "id": "ns2xFqx2v3w8",
    "outputId": "a01d2aaf-fa64-49f2-f837-ac416c0ff3da"
   },
   "outputs": [
    {
     "name": "stdout",
     "output_type": "stream",
     "text": [
      "Training samples: 767,  Testing samples: 330\n"
     ]
    }
   ],
   "source": [
    "# Convert lists to numpy arrays\n",
    "X = np.array(all_images)\n",
    "y = np.array(all_labels)\n",
    "\n",
    "# Split into training, testing, and validation sets\n",
    "X_train, X_temp, y_train, y_temp = train_test_split(X, y, test_size=0.3, random_state=42)\n",
    "# X_valid, X_test, y_valid, y_test = train_test_split(X_temp, y_temp, test_size=0.5, random_state=42)\n",
    "X_test=X_temp\n",
    "print(f\"Training samples: {len(X_train)},  Testing samples: {len(X_test)}\")"
   ]
  },
  {
   "cell_type": "code",
   "execution_count": null,
   "metadata": {
    "colab": {
     "base_uri": "https://localhost:8080/"
    },
    "id": "TK2zES-OuvZy",
    "outputId": "4a1aa8d3-ccf5-4377-9a51-867d078fe8eb"
   },
   "outputs": [
    {
     "name": "stdout",
     "output_type": "stream",
     "text": [
      "Model: \"sequential_12\"\n",
      "_________________________________________________________________\n",
      " Layer (type)                Output Shape              Param #   \n",
      "=================================================================\n",
      " mobilenetv2_1.00_224 (Func  (None, 7, 7, 1280)        2257984   \n",
      " tional)                                                         \n",
      "                                                                 \n",
      " flatten_12 (Flatten)        (None, 62720)             0         \n",
      "                                                                 \n",
      " dense_45 (Dense)            (None, 256)               16056576  \n",
      "                                                                 \n",
      " dense_46 (Dense)            (None, 128)               32896     \n",
      "                                                                 \n",
      " dense_47 (Dense)            (None, 64)                8256      \n",
      "                                                                 \n",
      " dense_48 (Dense)            (None, 3)                 195       \n",
      "                                                                 \n",
      "=================================================================\n",
      "Total params: 18355907 (70.02 MB)\n",
      "Trainable params: 16097923 (61.41 MB)\n",
      "Non-trainable params: 2257984 (8.61 MB)\n",
      "_________________________________________________________________\n",
      "Epoch 1/20\n",
      "24/24 [==============================] - 5s 53ms/step - loss: 1.6400 - accuracy: 0.8083\n",
      "Epoch 2/20\n",
      "24/24 [==============================] - 1s 53ms/step - loss: 0.1284 - accuracy: 0.9570\n",
      "Epoch 3/20\n",
      "24/24 [==============================] - 1s 54ms/step - loss: 0.0325 - accuracy: 0.9922\n",
      "Epoch 4/20\n",
      "24/24 [==============================] - 1s 57ms/step - loss: 0.0038 - accuracy: 0.9987\n",
      "Epoch 5/20\n",
      "24/24 [==============================] - 1s 53ms/step - loss: 0.0017 - accuracy: 1.0000\n",
      "Epoch 6/20\n",
      "24/24 [==============================] - 1s 54ms/step - loss: 5.9728e-04 - accuracy: 1.0000\n",
      "Epoch 7/20\n",
      "24/24 [==============================] - 1s 61ms/step - loss: 2.0763e-04 - accuracy: 1.0000\n",
      "Epoch 8/20\n",
      "24/24 [==============================] - 1s 55ms/step - loss: 1.5619e-04 - accuracy: 1.0000\n",
      "Epoch 9/20\n",
      "24/24 [==============================] - 1s 54ms/step - loss: 1.3639e-04 - accuracy: 1.0000\n",
      "Epoch 10/20\n",
      "24/24 [==============================] - 1s 48ms/step - loss: 1.2084e-04 - accuracy: 1.0000\n",
      "Epoch 11/20\n",
      "24/24 [==============================] - 1s 48ms/step - loss: 1.0892e-04 - accuracy: 1.0000\n",
      "Epoch 12/20\n",
      "24/24 [==============================] - 1s 49ms/step - loss: 9.8207e-05 - accuracy: 1.0000\n",
      "Epoch 13/20\n",
      "24/24 [==============================] - 1s 54ms/step - loss: 9.0737e-05 - accuracy: 1.0000\n",
      "Epoch 14/20\n",
      "24/24 [==============================] - 1s 62ms/step - loss: 8.4139e-05 - accuracy: 1.0000\n",
      "Epoch 15/20\n",
      "24/24 [==============================] - 2s 63ms/step - loss: 7.8920e-05 - accuracy: 1.0000\n",
      "Epoch 16/20\n",
      "24/24 [==============================] - 1s 50ms/step - loss: 7.4043e-05 - accuracy: 1.0000\n",
      "Epoch 17/20\n",
      "24/24 [==============================] - 1s 51ms/step - loss: 7.0236e-05 - accuracy: 1.0000\n",
      "Epoch 18/20\n",
      "24/24 [==============================] - 1s 57ms/step - loss: 6.4875e-05 - accuracy: 1.0000\n",
      "Epoch 19/20\n",
      "24/24 [==============================] - 1s 48ms/step - loss: 6.2289e-05 - accuracy: 1.0000\n",
      "Epoch 20/20\n",
      "24/24 [==============================] - 1s 51ms/step - loss: 5.6492e-05 - accuracy: 1.0000\n"
     ]
    }
   ],
   "source": [
    "base_model = MobileNetV2(\n",
    "    weights='imagenet',\n",
    "    include_top=False,\n",
    "    input_shape=(224,224,3)\n",
    ")\n",
    "\n",
    "# We define the number of classes in the classification problem.\n",
    "NUM_CLASSES = 3\n",
    "\n",
    "# First, a sequential model is created, which will be used to build the VGG model.\n",
    "vgg_model = Sequential()\n",
    "\n",
    "# Se agrega una capa al modelo. base_model el modelo anteriormente preentrenado.\n",
    "vgg_model.add(base_model)\n",
    "\n",
    "# A flattening layer (Flatten) is added. This layer converts the output from the\n",
    "# previous layer (which is likely a three-dimensional tensor) into a one-dimensional vector.\n",
    "vgg_model.add(layers.Flatten())\n",
    "\n",
    "\n",
    "# vgg_model.add(layers.Dropout(0.25))\n",
    "vgg_model.add(layers.Dense(256, activation='relu'))\n",
    "vgg_model.add(layers.Dense(128, activation='relu'))\n",
    "vgg_model.add(layers.Dense(64, activation='relu'))\n",
    "# A dense layer is added with NUM_CLASSES neurons and a sigmoid activation function.\n",
    "# This layer produces the final output of the model.\n",
    "vgg_model.add(layers.Dense(NUM_CLASSES, activation='softmax'))\n",
    "\n",
    "# The first layer of the model (base_model) is frozen, so the weights of this layer\n",
    "# will not be updated during training.\n",
    "vgg_model.layers[0].trainable = False\n",
    "\n",
    "\n",
    "\n",
    "\n",
    "\n",
    "vgg_model.summary()\n",
    "\n",
    "optimizer=keras.optimizers.Adam(learning_rate=0.001)\n",
    "losses=keras.losses.SparseCategoricalCrossentropy()\n",
    "metrics=['accuracy']\n",
    "vgg_model.compile(optimizer=optimizer,loss=losses,metrics=metrics)\n",
    "\n",
    "epochs=10\n",
    "batch_size=32\n",
    "history= vgg_model.fit(X_train,y_train, epochs=20, batch_size=32)\n",
    "\n",
    "\n"
   ]
  },
  {
   "cell_type": "code",
   "execution_count": null,
   "metadata": {
    "id": "CS6wmlXruvb0"
   },
   "outputs": [],
   "source": []
  },
  {
   "cell_type": "code",
   "execution_count": null,
   "metadata": {
    "id": "3JdFCkMnuvfr"
   },
   "outputs": [],
   "source": []
  },
  {
   "cell_type": "code",
   "execution_count": null,
   "metadata": {
    "id": "k4tQMEtHuviN"
   },
   "outputs": [],
   "source": []
  },
  {
   "cell_type": "code",
   "execution_count": null,
   "metadata": {
    "id": "4_vjO4TLuvj5"
   },
   "outputs": [],
   "source": []
  },
  {
   "cell_type": "code",
   "execution_count": null,
   "metadata": {
    "id": "W7Gp7E-AuvmG"
   },
   "outputs": [],
   "source": []
  },
  {
   "cell_type": "code",
   "execution_count": null,
   "metadata": {
    "id": "OGPW03u8uvz7"
   },
   "outputs": [],
   "source": []
  },
  {
   "cell_type": "code",
   "execution_count": null,
   "metadata": {
    "id": "fez9Y1ulkuu7"
   },
   "outputs": [],
   "source": []
  },
  {
   "cell_type": "code",
   "execution_count": null,
   "metadata": {
    "id": "8kB5w7lzkuxH"
   },
   "outputs": [],
   "source": []
  },
  {
   "cell_type": "code",
   "execution_count": null,
   "metadata": {
    "colab": {
     "base_uri": "https://localhost:8080/",
     "height": 1000
    },
    "id": "FQ274K9XgxqH",
    "outputId": "db73c4cd-0238-4488-a452-a14a1960c5c2"
   },
   "outputs": [
    {
     "name": "stdout",
     "output_type": "stream",
     "text": [
      "Downloading data from https://storage.googleapis.com/tensorflow/keras-applications/vgg16/vgg16_weights_tf_dim_ordering_tf_kernels_notop.h5\n",
      "58889256/58889256 [==============================] - 0s 0us/step\n",
      "Model: \"sequential_7\"\n",
      "_________________________________________________________________\n",
      " Layer (type)                Output Shape              Param #   \n",
      "=================================================================\n",
      " vgg16 (Functional)          (None, 7, 7, 512)         14714688  \n",
      "                                                                 \n",
      " flatten_7 (Flatten)         (None, 25088)             0         \n",
      "                                                                 \n",
      " dense_25 (Dense)            (None, 256)               6422784   \n",
      "                                                                 \n",
      " dense_26 (Dense)            (None, 128)               32896     \n",
      "                                                                 \n",
      " dense_27 (Dense)            (None, 64)                8256      \n",
      "                                                                 \n",
      " dense_28 (Dense)            (None, 3)                 195       \n",
      "                                                                 \n",
      "=================================================================\n",
      "Total params: 21178819 (80.79 MB)\n",
      "Trainable params: 6464131 (24.66 MB)\n",
      "Non-trainable params: 14714688 (56.13 MB)\n",
      "_________________________________________________________________\n",
      "Epoch 1/20\n"
     ]
    },
    {
     "ename": "ValueError",
     "evalue": "in user code:\n\n    File \"/usr/local/lib/python3.10/dist-packages/keras/src/engine/training.py\", line 1401, in train_function  *\n        return step_function(self, iterator)\n    File \"/usr/local/lib/python3.10/dist-packages/keras/src/engine/training.py\", line 1384, in step_function  **\n        outputs = model.distribute_strategy.run(run_step, args=(data,))\n    File \"/usr/local/lib/python3.10/dist-packages/keras/src/engine/training.py\", line 1373, in run_step  **\n        outputs = model.train_step(data)\n    File \"/usr/local/lib/python3.10/dist-packages/keras/src/engine/training.py\", line 1150, in train_step\n        y_pred = self(x, training=True)\n    File \"/usr/local/lib/python3.10/dist-packages/keras/src/utils/traceback_utils.py\", line 70, in error_handler\n        raise e.with_traceback(filtered_tb) from None\n    File \"/usr/local/lib/python3.10/dist-packages/keras/src/engine/input_spec.py\", line 253, in assert_input_compatibility\n        raise ValueError(\n\n    ValueError: Exception encountered when calling layer 'vgg16' (type Functional).\n    \n    Input 0 of layer \"block1_conv1\" is incompatible with the layer: expected min_ndim=4, found ndim=1. Full shape received: (None,)\n    \n    Call arguments received by layer 'vgg16' (type Functional):\n      • inputs=tf.Tensor(shape=(None,), dtype=float32)\n      • training=True\n      • mask=None\n",
     "output_type": "error",
     "traceback": [
      "\u001b[0;31m---------------------------------------------------------------------------\u001b[0m",
      "\u001b[0;31mValueError\u001b[0m                                Traceback (most recent call last)",
      "\u001b[0;32m<ipython-input-75-18a282ed9f8d>\u001b[0m in \u001b[0;36m<cell line: 46>\u001b[0;34m()\u001b[0m\n\u001b[1;32m     44\u001b[0m \u001b[0mepochs\u001b[0m\u001b[0;34m=\u001b[0m\u001b[0;36m10\u001b[0m\u001b[0;34m\u001b[0m\u001b[0;34m\u001b[0m\u001b[0m\n\u001b[1;32m     45\u001b[0m \u001b[0mbatch_size\u001b[0m\u001b[0;34m=\u001b[0m\u001b[0;36m32\u001b[0m\u001b[0;34m\u001b[0m\u001b[0;34m\u001b[0m\u001b[0m\n\u001b[0;32m---> 46\u001b[0;31m \u001b[0mhistory\u001b[0m\u001b[0;34m=\u001b[0m \u001b[0mvgg_model\u001b[0m\u001b[0;34m.\u001b[0m\u001b[0mfit\u001b[0m\u001b[0;34m(\u001b[0m\u001b[0mX_train\u001b[0m\u001b[0;34m,\u001b[0m\u001b[0my_train\u001b[0m\u001b[0;34m,\u001b[0m \u001b[0mepochs\u001b[0m\u001b[0;34m=\u001b[0m\u001b[0;36m20\u001b[0m\u001b[0;34m,\u001b[0m \u001b[0mbatch_size\u001b[0m\u001b[0;34m=\u001b[0m\u001b[0;36m32\u001b[0m\u001b[0;34m,\u001b[0m \u001b[0mvalidation_data\u001b[0m\u001b[0;34m=\u001b[0m\u001b[0;34m(\u001b[0m\u001b[0mX_valid\u001b[0m\u001b[0;34m,\u001b[0m \u001b[0my_valid\u001b[0m\u001b[0;34m)\u001b[0m\u001b[0;34m)\u001b[0m\u001b[0;34m\u001b[0m\u001b[0;34m\u001b[0m\u001b[0m\n\u001b[0m\u001b[1;32m     47\u001b[0m \u001b[0;34m\u001b[0m\u001b[0m\n\u001b[1;32m     48\u001b[0m \u001b[0;34m\u001b[0m\u001b[0m\n",
      "\u001b[0;32m/usr/local/lib/python3.10/dist-packages/keras/src/utils/traceback_utils.py\u001b[0m in \u001b[0;36merror_handler\u001b[0;34m(*args, **kwargs)\u001b[0m\n\u001b[1;32m     68\u001b[0m             \u001b[0;31m# To get the full stack trace, call:\u001b[0m\u001b[0;34m\u001b[0m\u001b[0;34m\u001b[0m\u001b[0m\n\u001b[1;32m     69\u001b[0m             \u001b[0;31m# `tf.debugging.disable_traceback_filtering()`\u001b[0m\u001b[0;34m\u001b[0m\u001b[0;34m\u001b[0m\u001b[0m\n\u001b[0;32m---> 70\u001b[0;31m             \u001b[0;32mraise\u001b[0m \u001b[0me\u001b[0m\u001b[0;34m.\u001b[0m\u001b[0mwith_traceback\u001b[0m\u001b[0;34m(\u001b[0m\u001b[0mfiltered_tb\u001b[0m\u001b[0;34m)\u001b[0m \u001b[0;32mfrom\u001b[0m \u001b[0;32mNone\u001b[0m\u001b[0;34m\u001b[0m\u001b[0;34m\u001b[0m\u001b[0m\n\u001b[0m\u001b[1;32m     71\u001b[0m         \u001b[0;32mfinally\u001b[0m\u001b[0;34m:\u001b[0m\u001b[0;34m\u001b[0m\u001b[0;34m\u001b[0m\u001b[0m\n\u001b[1;32m     72\u001b[0m             \u001b[0;32mdel\u001b[0m \u001b[0mfiltered_tb\u001b[0m\u001b[0;34m\u001b[0m\u001b[0;34m\u001b[0m\u001b[0m\n",
      "\u001b[0;32m/usr/local/lib/python3.10/dist-packages/keras/src/engine/training.py\u001b[0m in \u001b[0;36mtf__train_function\u001b[0;34m(iterator)\u001b[0m\n\u001b[1;32m     13\u001b[0m                 \u001b[0;32mtry\u001b[0m\u001b[0;34m:\u001b[0m\u001b[0;34m\u001b[0m\u001b[0;34m\u001b[0m\u001b[0m\n\u001b[1;32m     14\u001b[0m                     \u001b[0mdo_return\u001b[0m \u001b[0;34m=\u001b[0m \u001b[0;32mTrue\u001b[0m\u001b[0;34m\u001b[0m\u001b[0;34m\u001b[0m\u001b[0m\n\u001b[0;32m---> 15\u001b[0;31m                     \u001b[0mretval_\u001b[0m \u001b[0;34m=\u001b[0m \u001b[0mag__\u001b[0m\u001b[0;34m.\u001b[0m\u001b[0mconverted_call\u001b[0m\u001b[0;34m(\u001b[0m\u001b[0mag__\u001b[0m\u001b[0;34m.\u001b[0m\u001b[0mld\u001b[0m\u001b[0;34m(\u001b[0m\u001b[0mstep_function\u001b[0m\u001b[0;34m)\u001b[0m\u001b[0;34m,\u001b[0m \u001b[0;34m(\u001b[0m\u001b[0mag__\u001b[0m\u001b[0;34m.\u001b[0m\u001b[0mld\u001b[0m\u001b[0;34m(\u001b[0m\u001b[0mself\u001b[0m\u001b[0;34m)\u001b[0m\u001b[0;34m,\u001b[0m \u001b[0mag__\u001b[0m\u001b[0;34m.\u001b[0m\u001b[0mld\u001b[0m\u001b[0;34m(\u001b[0m\u001b[0miterator\u001b[0m\u001b[0;34m)\u001b[0m\u001b[0;34m)\u001b[0m\u001b[0;34m,\u001b[0m \u001b[0;32mNone\u001b[0m\u001b[0;34m,\u001b[0m \u001b[0mfscope\u001b[0m\u001b[0;34m)\u001b[0m\u001b[0;34m\u001b[0m\u001b[0;34m\u001b[0m\u001b[0m\n\u001b[0m\u001b[1;32m     16\u001b[0m                 \u001b[0;32mexcept\u001b[0m\u001b[0;34m:\u001b[0m\u001b[0;34m\u001b[0m\u001b[0;34m\u001b[0m\u001b[0m\n\u001b[1;32m     17\u001b[0m                     \u001b[0mdo_return\u001b[0m \u001b[0;34m=\u001b[0m \u001b[0;32mFalse\u001b[0m\u001b[0;34m\u001b[0m\u001b[0;34m\u001b[0m\u001b[0m\n",
      "\u001b[0;31mValueError\u001b[0m: in user code:\n\n    File \"/usr/local/lib/python3.10/dist-packages/keras/src/engine/training.py\", line 1401, in train_function  *\n        return step_function(self, iterator)\n    File \"/usr/local/lib/python3.10/dist-packages/keras/src/engine/training.py\", line 1384, in step_function  **\n        outputs = model.distribute_strategy.run(run_step, args=(data,))\n    File \"/usr/local/lib/python3.10/dist-packages/keras/src/engine/training.py\", line 1373, in run_step  **\n        outputs = model.train_step(data)\n    File \"/usr/local/lib/python3.10/dist-packages/keras/src/engine/training.py\", line 1150, in train_step\n        y_pred = self(x, training=True)\n    File \"/usr/local/lib/python3.10/dist-packages/keras/src/utils/traceback_utils.py\", line 70, in error_handler\n        raise e.with_traceback(filtered_tb) from None\n    File \"/usr/local/lib/python3.10/dist-packages/keras/src/engine/input_spec.py\", line 253, in assert_input_compatibility\n        raise ValueError(\n\n    ValueError: Exception encountered when calling layer 'vgg16' (type Functional).\n    \n    Input 0 of layer \"block1_conv1\" is incompatible with the layer: expected min_ndim=4, found ndim=1. Full shape received: (None,)\n    \n    Call arguments received by layer 'vgg16' (type Functional):\n      • inputs=tf.Tensor(shape=(None,), dtype=float32)\n      • training=True\n      • mask=None\n"
     ]
    }
   ],
   "source": [
    "base_model = VGG16(\n",
    "    weights='imagenet',\n",
    "    include_top=False,\n",
    "    input_shape=(224,224,3)\n",
    ")\n",
    "\n",
    "# We define the number of classes in the classification problem.\n",
    "NUM_CLASSES = 3\n",
    "\n",
    "# First, a sequential model is created, which will be used to build the VGG model.\n",
    "vgg_model = Sequential()\n",
    "\n",
    "# Se agrega una capa al modelo. base_model el modelo anteriormente preentrenado.\n",
    "vgg_model.add(base_model)\n",
    "\n",
    "# A flattening layer (Flatten) is added. This layer converts the output from the\n",
    "# previous layer (which is likely a three-dimensional tensor) into a one-dimensional vector.\n",
    "vgg_model.add(layers.Flatten())\n",
    "\n",
    "\n",
    "# vgg_model.add(layers.Dropout(0.25))\n",
    "vgg_model.add(layers.Dense(256, activation='relu'))\n",
    "vgg_model.add(layers.Dense(128, activation='relu'))\n",
    "vgg_model.add(layers.Dense(64, activation='relu'))\n",
    "# A dense layer is added with NUM_CLASSES neurons and a sigmoid activation function.\n",
    "# This layer produces the final output of the model.\n",
    "vgg_model.add(layers.Dense(NUM_CLASSES, activation='softmax'))\n",
    "\n",
    "# The first layer of the model (base_model) is frozen, so the weights of this layer\n",
    "# will not be updated during training.\n",
    "vgg_model.layers[0].trainable = False\n",
    "\n",
    "\n",
    "\n",
    "\n",
    "\n",
    "vgg_model.summary()\n",
    "\n",
    "optimizer=keras.optimizers.Adam(learning_rate=0.001)\n",
    "losses=keras.losses.SparseCategoricalCrossentropy()\n",
    "metrics=['accuracy']\n",
    "vgg_model.compile(optimizer=optimizer,loss=losses,metrics=metrics)\n",
    "\n",
    "epochs=10\n",
    "batch_size=32\n",
    "history= vgg_model.fit(X_train,y_train, epochs=20, batch_size=32, validation_data=(X_valid, y_valid))\n",
    "\n",
    "\n"
   ]
  },
  {
   "cell_type": "code",
   "execution_count": null,
   "metadata": {
    "colab": {
     "base_uri": "https://localhost:8080/",
     "height": 472
    },
    "id": "sF0pcFkcgxsa",
    "outputId": "4313bf86-bd69-436d-f178-636b26224289"
   },
   "outputs": [
    {
     "data": {
      "image/png": "[encoded data removed]",
      "text/plain": [
       "<Figure size 640x480 with 1 Axes>"
      ]
     },
     "metadata": {},
     "output_type": "display_data"
    }
   ],
   "source": [
    "plt.plot(history.history['loss'])\n",
    "plt.plot(history.history['val_loss'])\n",
    "plt.title('Model loss')\n",
    "plt.ylabel('Loss')\n",
    "plt.xlabel('Epoch')\n",
    "plt.legend(['Train', 'Val'], loc='upper right')\n",
    "plt.show()"
   ]
  },
  {
   "cell_type": "code",
   "execution_count": null,
   "metadata": {
    "colab": {
     "base_uri": "https://localhost:8080/",
     "height": 472
    },
    "id": "WJyi5jtX0D2S",
    "outputId": "848d1661-5eb8-4f53-9659-5132f379ac6d"
   },
   "outputs": [
    {
     "data": {
      "image/png": "[encoded data removed]",
      "text/plain": [
       "<Figure size 640x480 with 1 Axes>"
      ]
     },
     "metadata": {},
     "output_type": "display_data"
    }
   ],
   "source": [
    "plt.plot(history.history['accuracy'])\n",
    "plt.plot(history.history['val_accuracy'])\n",
    "plt.title('Model accuracy')\n",
    "plt.ylabel('Accuracy')\n",
    "plt.xlabel('Epoch')\n",
    "plt.legend(['Train', 'Val'], loc='lower right')\n",
    "plt.show()"
   ]
  },
  {
   "cell_type": "markdown",
   "metadata": {
    "id": "JHK6ohwu0D4c"
   },
   "source": []
  },
  {
   "cell_type": "markdown",
   "metadata": {
    "id": "YkZ5OWG40D8T"
   },
   "source": []
  },
  {
   "cell_type": "markdown",
   "metadata": {
    "id": "2-QHyhA30EAS"
   },
   "source": []
  }
 ],
 "metadata": {
  "accelerator": "TPU",
  "colab": {
   "gpuType": "V28",
   "provenance": []
  },
  "kernelspec": {
   "display_name": "Python 3",
   "name": "python3"
  },
  "language_info": {
   "name": "python"
  }
 },
 "nbformat": 4,
 "nbformat_minor": 0
}
